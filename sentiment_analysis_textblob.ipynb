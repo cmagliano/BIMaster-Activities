{
  "nbformat": 4,
  "nbformat_minor": 0,
  "metadata": {
    "kernelspec": {
      "language": "python",
      "display_name": "Python 3",
      "name": "python3"
    },
    "language_info": {
      "pygments_lexer": "ipython3",
      "nbconvert_exporter": "python",
      "version": "3.6.4",
      "file_extension": ".py",
      "codemirror_mode": {
        "name": "ipython",
        "version": 3
      },
      "name": "python",
      "mimetype": "text/x-python"
    },
    "colab": {
      "name": "sentiment_analysis_textblob.ipynb",
      "provenance": [],
      "collapsed_sections": [],
      "toc_visible": true
    }
  },
  "cells": [
    {
      "cell_type": "markdown",
      "metadata": {
        "id": "MC32T60vcts3"
      },
      "source": [
        "# Introdução a TextBlob "
      ]
    },
    {
      "cell_type": "markdown",
      "metadata": {
        "id": "QFP6wLjpcts8"
      },
      "source": [
        "TextBlob é uma biblioteca Python para processamento de dados textuais. Ele fornece uma API consistente para mergulhar em tarefas de processamento de linguagem natural comum (PNL), como marcação de classes gramaticais, extração de sintagmas nominais, análise de sentimento e muito mais.\n",
        "\n",
        "TextBlob é construído sobre a arquitetura NLTK e é muito mais fácil de usar e rápido para iniciantes\n",
        "\n",
        "Alguns dos recursos do TextBlob incluem\n",
        "\n",
        "- Análise de sentimentos\n",
        "- Extração de frase substantiva\n",
        "- Marcação de parte da fala\n",
        "- Tokenização (divisão do texto em palavras e frases)\n"
      ]
    },
    {
      "cell_type": "markdown",
      "metadata": {
        "id": "BOS6K2Tgcts9"
      },
      "source": [
        "## **Análise de sentimentos**\n",
        "\n",
        "A análise de sentimento é a mineração contextual de texto que identifica e extrai informações subjetivas no material de origem e ajuda uma empresa a entender o sentimento social de sua marca, produto ou serviço enquanto monitora conversas online.\n",
        "\n",
        "A análise de sentimento TextBlob de TextBlob retorna duas propriedades\n",
        "1. Polaridade\n",
        "2. Subjetividade\n",
        "\n",
        "\n",
        "### ** Polaridade **\n",
        "\n",
        "Significa simplesmente emoções expressas em uma frase.\n",
        "\n",
        "As emoções estão intimamente relacionadas aos sentimentos. A força de um sentimento ou opinião está tipicamente ligada à intensidade de certas emoções, por exemplo, alegria e raiva.\n",
        "\n",
        "O intervalo da polaridade encontra-se em [-1.0,1.0], onde 1 é uma declaração positiva e -1 é uma declaração negativa. Valores com 0 são declaração neutra\n",
        "\n",
        "\n",
        "### ** Subjetividade **\n",
        "\n",
        "A frase subjetiva expressa alguns sentimentos, opiniões ou crenças pessoais e individuais.\n",
        "\n",
        "O intervalo de subjetividade é [0,0,1,0], em que 0 é muito objetivo e 1 é muito subjetivo."
      ]
    },
    {
      "cell_type": "markdown",
      "metadata": {
        "id": "dLLLzt6acts-"
      },
      "source": [
        "### ** Etapas de PLN realizadas por TextBlob para análise de sentimento **\n",
        "\n",
        "1. Lematização / Stemming - Encurte as palavras para sua raiz - por exemplo, removendo, íon, etc.\n",
        "2. Palavras minúsculas\n",
        "3. Limpeza dos dados - Remover caracteres especiais\n",
        "4. Remova palavras de parada, pontuação ou tokens indesejados, por exemplo, o, foi e\n",
        "5. Tokenização - crie um pacote de palavras\n",
        "6. Classificação com base na polaridade ou subjetividade"
      ]
    },
    {
      "cell_type": "markdown",
      "metadata": {
        "id": "p4pSpmvects-"
      },
      "source": [
        "# Pacotes"
      ]
    },
    {
      "cell_type": "markdown",
      "metadata": {
        "id": "d42yz-aDcts-"
      },
      "source": [
        "## Importar pacotes básicos"
      ]
    },
    {
      "cell_type": "code",
      "metadata": {
        "_uuid": "8f2839f25d086af736a60e9eeb907d3b93b6e0e5",
        "_cell_guid": "b1076dfc-b9ad-4769-8c92-a6c4dae69d19",
        "trusted": true,
        "id": "D63pMBGrcts_"
      },
      "source": [
        "# This Python 3 environment comes with many helpful analytics libraries installed\n",
        "# It is defined by the kaggle/python Docker image: https://github.com/kaggle/docker-python\n",
        "# For example, here's several helpful packages to load\n",
        "\n",
        "import os #import the os Packages\n",
        "import numpy as np # linear algebra\n",
        "import pandas as pd # data processing, CSV file I/O (e.g. pd.read_csv)"
      ],
      "execution_count": null,
      "outputs": []
    },
    {
      "cell_type": "markdown",
      "metadata": {
        "id": "tj1rW4Kpcts_"
      },
      "source": [
        "## Importando os pacotes de Textblob"
      ]
    },
    {
      "cell_type": "code",
      "metadata": {
        "trusted": true,
        "colab": {
          "base_uri": "https://localhost:8080/"
        },
        "id": "zM-dmM_McttA",
        "outputId": "7c892638-f340-485c-8c3d-aede68653904"
      },
      "source": [
        "!pip install -U textblob\n",
        "!python -m textblob.download_corpora"
      ],
      "execution_count": null,
      "outputs": [
        {
          "output_type": "stream",
          "text": [
            "Requirement already up-to-date: textblob in /usr/local/lib/python3.6/dist-packages (0.15.3)\n",
            "Requirement already satisfied, skipping upgrade: nltk>=3.1 in /usr/local/lib/python3.6/dist-packages (from textblob) (3.2.5)\n",
            "Requirement already satisfied, skipping upgrade: six in /usr/local/lib/python3.6/dist-packages (from nltk>=3.1->textblob) (1.15.0)\n",
            "[nltk_data] Downloading package brown to /root/nltk_data...\n",
            "[nltk_data]   Unzipping corpora/brown.zip.\n",
            "[nltk_data] Downloading package punkt to /root/nltk_data...\n",
            "[nltk_data]   Unzipping tokenizers/punkt.zip.\n",
            "[nltk_data] Downloading package wordnet to /root/nltk_data...\n",
            "[nltk_data]   Unzipping corpora/wordnet.zip.\n",
            "[nltk_data] Downloading package averaged_perceptron_tagger to\n",
            "[nltk_data]     /root/nltk_data...\n",
            "[nltk_data]   Unzipping taggers/averaged_perceptron_tagger.zip.\n",
            "[nltk_data] Downloading package conll2000 to /root/nltk_data...\n",
            "[nltk_data]   Unzipping corpora/conll2000.zip.\n",
            "[nltk_data] Downloading package movie_reviews to /root/nltk_data...\n",
            "[nltk_data]   Unzipping corpora/movie_reviews.zip.\n",
            "Finished.\n"
          ],
          "name": "stdout"
        }
      ]
    },
    {
      "cell_type": "code",
      "metadata": {
        "trusted": true,
        "id": "3slh8N5bcttA"
      },
      "source": [
        "from textblob import TextBlob"
      ],
      "execution_count": null,
      "outputs": []
    },
    {
      "cell_type": "markdown",
      "metadata": {
        "id": "ja6N8vSVcttA"
      },
      "source": [
        "# Vamos a fazer testes"
      ]
    },
    {
      "cell_type": "code",
      "metadata": {
        "_uuid": "d629ff2d2480ee46fbb7e2d37f6b5fab8052498a",
        "_cell_guid": "79c7e3d0-c299-4dcb-8224-4455121ee9b0",
        "trusted": true,
        "colab": {
          "base_uri": "https://localhost:8080/"
        },
        "id": "ElIxS18ccttA",
        "outputId": "629d00bd-8f12-458d-f296-05f25e9685b8"
      },
      "source": [
        "#Negative sentiment score\n",
        "a = TextBlob(\"I am the worst programmer ever\")\n",
        "a.sentiment"
      ],
      "execution_count": null,
      "outputs": [
        {
          "output_type": "execute_result",
          "data": {
            "text/plain": [
              "Sentiment(polarity=-1.0, subjectivity=1.0)"
            ]
          },
          "metadata": {
            "tags": []
          },
          "execution_count": 4
        }
      ]
    },
    {
      "cell_type": "markdown",
      "metadata": {
        "id": "bC2eTwSdcttA"
      },
      "source": [
        "**The Statement \"I am the worst programmer ever\" has a Polarity Score of -1.0 indicating a Negative Sentiment.**"
      ]
    },
    {
      "cell_type": "code",
      "metadata": {
        "trusted": true,
        "colab": {
          "base_uri": "https://localhost:8080/"
        },
        "id": "Lbb8ZQuvcttB",
        "outputId": "b8adda86-f43f-4358-f5a8-6f6c6233efd7"
      },
      "source": [
        "#Positive Sentiment score\n",
        "a = TextBlob(\"I am the best programmer ever\")\n",
        "a.sentiment"
      ],
      "execution_count": null,
      "outputs": [
        {
          "output_type": "execute_result",
          "data": {
            "text/plain": [
              "Sentiment(polarity=1.0, subjectivity=0.3)"
            ]
          },
          "metadata": {
            "tags": []
          },
          "execution_count": 5
        }
      ]
    },
    {
      "cell_type": "markdown",
      "metadata": {
        "id": "cxmNBGQscttB"
      },
      "source": [
        "**The Statement \"I am the best programmer ever\" has a Polarity Score of 1.0 indicating a Positive Sentiment.**"
      ]
    },
    {
      "cell_type": "code",
      "metadata": {
        "trusted": true,
        "colab": {
          "base_uri": "https://localhost:8080/"
        },
        "id": "MTZlM9oecttB",
        "outputId": "8635df5b-8cf9-44bd-e47b-b0ea310ccf6f"
      },
      "source": [
        "#Neutral Sentiment Score\n",
        "a = TextBlob(\"I am programmer\")\n",
        "a.sentiment"
      ],
      "execution_count": null,
      "outputs": [
        {
          "output_type": "execute_result",
          "data": {
            "text/plain": [
              "Sentiment(polarity=0.0, subjectivity=0.0)"
            ]
          },
          "metadata": {
            "tags": []
          },
          "execution_count": 6
        }
      ]
    },
    {
      "cell_type": "markdown",
      "metadata": {
        "id": "U-CoavhEcttB"
      },
      "source": [
        "**The Statement \"I am programmer\" has a Polarity Score of 0.0 indicating a Neutral Sentiment.**"
      ]
    },
    {
      "cell_type": "markdown",
      "metadata": {
        "id": "X2oakbdacttB"
      },
      "source": [
        "# Análise de sentimento em tweets para produtos"
      ]
    },
    {
      "cell_type": "markdown",
      "metadata": {
        "id": "B4LI4tD3cttC"
      },
      "source": [
        "Conjunto de dados em anexo \"Análise de sentimento do produto do Twitter\" contém os tweets de pessoas que expressaram suas opiniões sobre certas marcas de produtos\n",
        "\n",
        "[Twitter Product Sentiment Analysis Dataset](https://www.kaggle.com/blessondensil294/twitter-product-sentiment-analysis)"
      ]
    },
    {
      "cell_type": "code",
      "metadata": {
        "trusted": true,
        "id": "Ln0Tax4vcttD"
      },
      "source": [
        "# Input data files are available in the read-only \"../input/\" directory\n",
        "# For example, running this (by clicking run or pressing Shift+Enter) will list all files under the input directory\n",
        "\n",
        "import os\n",
        "for dirname, _, filenames in os.walk('/kaggle/input'):\n",
        "    for filename in filenames:\n",
        "        print(os.path.join(dirname, filename))\n",
        "\n",
        "# You can write up to 5GB to the current directory (/kaggle/working/) that gets preserved as output when you create a version using \"Save & Run All\" \n",
        "# You can also write temporary files to /kaggle/temp/, but they won't be saved outside of the current session"
      ],
      "execution_count": null,
      "outputs": []
    },
    {
      "cell_type": "code",
      "metadata": {
        "trusted": true,
        "id": "GdRwgA5LcttD"
      },
      "source": [
        "#Load the Dataset to the DataFrame\n",
        "df_Tweets = pd.read_csv('Twitter Product Sentiment Analysis.csv')"
      ],
      "execution_count": null,
      "outputs": []
    },
    {
      "cell_type": "code",
      "metadata": {
        "trusted": true,
        "colab": {
          "base_uri": "https://localhost:8080/",
          "height": 204
        },
        "id": "PAeETzxtcttD",
        "outputId": "361f5ee9-e425-4c49-ba12-55c8fee9a67a"
      },
      "source": [
        "#Display the head of the DataFrame\n",
        "df_Tweets.head()"
      ],
      "execution_count": null,
      "outputs": [
        {
          "output_type": "execute_result",
          "data": {
            "text/html": [
              "<div>\n",
              "<style scoped>\n",
              "    .dataframe tbody tr th:only-of-type {\n",
              "        vertical-align: middle;\n",
              "    }\n",
              "\n",
              "    .dataframe tbody tr th {\n",
              "        vertical-align: top;\n",
              "    }\n",
              "\n",
              "    .dataframe thead th {\n",
              "        text-align: right;\n",
              "    }\n",
              "</style>\n",
              "<table border=\"1\" class=\"dataframe\">\n",
              "  <thead>\n",
              "    <tr style=\"text-align: right;\">\n",
              "      <th></th>\n",
              "      <th>id</th>\n",
              "      <th>tweet</th>\n",
              "    </tr>\n",
              "  </thead>\n",
              "  <tbody>\n",
              "    <tr>\n",
              "      <th>0</th>\n",
              "      <td>1</td>\n",
              "      <td>#fingerprint #Pregnancy Test https://goo.gl/h1...</td>\n",
              "    </tr>\n",
              "    <tr>\n",
              "      <th>1</th>\n",
              "      <td>2</td>\n",
              "      <td>Finally a transparant silicon case ^^ Thanks t...</td>\n",
              "    </tr>\n",
              "    <tr>\n",
              "      <th>2</th>\n",
              "      <td>3</td>\n",
              "      <td>We love this! Would you go? #talk #makememorie...</td>\n",
              "    </tr>\n",
              "    <tr>\n",
              "      <th>3</th>\n",
              "      <td>4</td>\n",
              "      <td>I'm wired I know I'm George I was made that wa...</td>\n",
              "    </tr>\n",
              "    <tr>\n",
              "      <th>4</th>\n",
              "      <td>5</td>\n",
              "      <td>What amazing service! Apple won't even talk to...</td>\n",
              "    </tr>\n",
              "  </tbody>\n",
              "</table>\n",
              "</div>"
            ],
            "text/plain": [
              "   id                                              tweet\n",
              "0   1  #fingerprint #Pregnancy Test https://goo.gl/h1...\n",
              "1   2  Finally a transparant silicon case ^^ Thanks t...\n",
              "2   3  We love this! Would you go? #talk #makememorie...\n",
              "3   4  I'm wired I know I'm George I was made that wa...\n",
              "4   5  What amazing service! Apple won't even talk to..."
            ]
          },
          "metadata": {
            "tags": []
          },
          "execution_count": 9
        }
      ]
    },
    {
      "cell_type": "code",
      "metadata": {
        "trusted": true,
        "colab": {
          "base_uri": "https://localhost:8080/"
        },
        "id": "8xS8Ul9ccttD",
        "outputId": "51332a1c-8588-4a26-84b0-6f2550d2a5bc"
      },
      "source": [
        "print(df_Tweets['tweet'][2])\n",
        "Tweet = TextBlob(df_Tweets['tweet'][2])\n",
        "Tweet.sentiment"
      ],
      "execution_count": null,
      "outputs": [
        {
          "output_type": "stream",
          "text": [
            "We love this! Would you go? #talk #makememories #unplug #relax #iphone #smartphone #wifi #connect... http://fb.me/6N3LsUpCu\n"
          ],
          "name": "stdout"
        },
        {
          "output_type": "execute_result",
          "data": {
            "text/plain": [
              "Sentiment(polarity=0.625, subjectivity=0.6)"
            ]
          },
          "metadata": {
            "tags": []
          },
          "execution_count": 10
        }
      ]
    },
    {
      "cell_type": "markdown",
      "metadata": {
        "id": "447oxP4OcttD"
      },
      "source": [
        "A polaridade do tweet é de 0,62, o que mostra que o tweet é uma análise positiva do produto.\n",
        "\n",
        "A subjetividade é de 0,6, o que mostra que a opinião do usuário é leve em direção à visão subjetiva de seu tweet."
      ]
    },
    {
      "cell_type": "code",
      "metadata": {
        "trusted": true,
        "colab": {
          "base_uri": "https://localhost:8080/"
        },
        "id": "SpSgXezwcttE",
        "outputId": "affaead7-af13-4a84-c2a7-63cd78bc046e"
      },
      "source": [
        "print(df_Tweets['tweet'][4])\n",
        "Tweet = TextBlob(df_Tweets['tweet'][4])\n",
        "Tweet.sentiment"
      ],
      "execution_count": null,
      "outputs": [
        {
          "output_type": "stream",
          "text": [
            "What amazing service! Apple won't even talk to me about a question I have unless I pay them $19.95 for their stupid support!\n"
          ],
          "name": "stdout"
        },
        {
          "output_type": "execute_result",
          "data": {
            "text/plain": [
              "Sentiment(polarity=-0.12499999999999989, subjectivity=0.95)"
            ]
          },
          "metadata": {
            "tags": []
          },
          "execution_count": 11
        }
      ]
    },
    {
      "cell_type": "markdown",
      "metadata": {
        "id": "oiA0lcZNcttE"
      },
      "source": [
        "A polaridade do Tweet é -0,12, o que mostra que o Tweet é uma avaliação ligeiramente negativa do produto.\n",
        "\n",
        "A subjetividade é 0,95, o que mostra que o usuário tem alta opinião sobre o assunto"
      ]
    },
    {
      "cell_type": "code",
      "metadata": {
        "trusted": true,
        "colab": {
          "base_uri": "https://localhost:8080/"
        },
        "id": "0jmCtHJ9cttE",
        "outputId": "0cbb2abb-293c-4257-9d44-9d3eac7278fa"
      },
      "source": [
        "print(df_Tweets['tweet'][5])\n",
        "Tweet = TextBlob(df_Tweets['tweet'][5])\n",
        "Tweet.sentiment"
      ],
      "execution_count": null,
      "outputs": [
        {
          "output_type": "stream",
          "text": [
            "iPhone software update fucked up my phone big time Stupid iPhones\n"
          ],
          "name": "stdout"
        },
        {
          "output_type": "execute_result",
          "data": {
            "text/plain": [
              "Sentiment(polarity=-0.4666666666666666, subjectivity=0.6)"
            ]
          },
          "metadata": {
            "tags": []
          },
          "execution_count": 12
        }
      ]
    },
    {
      "cell_type": "markdown",
      "metadata": {
        "id": "AL_3JyJ3cttE"
      },
      "source": [
        "A Polaridade do Tweet é -0,46, o que mostra que o Tweet é uma Revisão Negativa do Produto.\n",
        "\n",
        "A subjetividade é de 0,6, o que mostra que a opinião do usuário é leve em direção à visão subjetiva de seu tweet."
      ]
    },
    {
      "cell_type": "markdown",
      "metadata": {
        "id": "BLYzM6V2cttF"
      },
      "source": [
        "Esta é uma análise de sentimento de nível iniciante de várias avaliações de produtos extraídas do Twitter.\n",
        "\n",
        "Você pode usar o TextBlob para extrair facilmente o sentimento de uma pessoa com base na polaridade e subjetividade. O Pacote TextBlob é fácil de usar e rápido e é adequado para iniciantes."
      ]
    },
    {
      "cell_type": "code",
      "metadata": {
        "id": "VaIzvANmfm8b"
      },
      "source": [
        ""
      ],
      "execution_count": null,
      "outputs": []
    }
  ]
}