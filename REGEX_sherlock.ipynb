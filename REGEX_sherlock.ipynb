{
  "nbformat": 4,
  "nbformat_minor": 0,
  "metadata": {
    "anaconda-cloud": {},
    "kernelspec": {
      "display_name": "Python (intel_nlp)",
      "language": "python",
      "name": "intel_nlp"
    },
    "language_info": {
      "codemirror_mode": {
        "name": "ipython",
        "version": 3
      },
      "file_extension": ".py",
      "mimetype": "text/x-python",
      "name": "python",
      "nbconvert_exporter": "python",
      "pygments_lexer": "ipython3",
      "version": "3.6.5"
    },
    "colab": {
      "name": "REGEX_sherlock.ipynb",
      "provenance": [],
      "collapsed_sections": [],
      "toc_visible": true
    }
  },
  "cells": [
    {
      "cell_type": "markdown",
      "metadata": {
        "id": "T1vQwTc-zDZF"
      },
      "source": [
        "## Vamos ver algumas utilidades do regex com uma historia Sherlock Holmes"
      ]
    },
    {
      "cell_type": "code",
      "metadata": {
        "collapsed": true,
        "id": "T0v2FZYjy4IH"
      },
      "source": [
        "#A biblioteca re foi construída para trabalhar com pandas e numpy por esta razão ela é muito utilizada para tratamento de strings\r\n",
        "import re"
      ],
      "execution_count": 24,
      "outputs": []
    },
    {
      "cell_type": "code",
      "metadata": {
        "collapsed": true,
        "id": "44dRc5x2y4IN"
      },
      "source": [
        "# for linux and mac, uncomment and run the following line:\n",
        "# !wget https://sherlock-holm.es/stories/plain-text/cnus.txt\n",
        "# for windows, use your browser to download txt file and place in working directory"
      ],
      "execution_count": 25,
      "outputs": []
    },
    {
      "cell_type": "markdown",
      "metadata": {
        "id": "LZRlMmCt1GIL"
      },
      "source": [
        "#Carregamos o texto no algoritmo"
      ]
    },
    {
      "cell_type": "code",
      "metadata": {
        "collapsed": true,
        "id": "NM7j_zH_y4IN"
      },
      "source": [
        "text = ''\n",
        "with open('cnus.txt','r') as f:\n",
        "    text = \" \".join([l.strip() for l in f.readlines()])"
      ],
      "execution_count": 26,
      "outputs": []
    },
    {
      "cell_type": "code",
      "metadata": {
        "id": "Fq7LzsU2y4IO",
        "colab": {
          "base_uri": "https://localhost:8080/",
          "height": 69
        },
        "outputId": "4ac39331-6cf4-4ada-f594-4c64de8548b8"
      },
      "source": [
        "text[2611:3000]"
      ],
      "execution_count": 6,
      "outputs": [
        {
          "output_type": "execute_result",
          "data": {
            "application/vnd.google.colaboratory.intrinsic+json": {
              "type": "string"
            },
            "text/plain": [
              "\"On landing at Bombay, I learned that my corps had advanced through the passes, and was already deep in the enemy's country. I followed, however, with many other officers who were in the same situation as myself, and succeeded in reaching Candahar in safety, where I found my regiment, and at once entered upon my new duties.  The campaign brought honours and promotion to many, but for me \""
            ]
          },
          "metadata": {
            "tags": []
          },
          "execution_count": 6
        }
      ]
    },
    {
      "cell_type": "markdown",
      "metadata": {
        "id": "xBIVoAjjy4IP"
      },
      "source": [
        "## Questão 1\n",
        "\n",
        "Uma das famosas frases de efeito de Sherlock Holmes é o uso da palavra \"sem dúvida\"\n",
        "\n",
        "* Quantas vezes a palavra 'sem dúvida' é usada?"
      ]
    },
    {
      "cell_type": "code",
      "metadata": {
        "id": "dRFWZ7gsy4IP",
        "colab": {
          "base_uri": "https://localhost:8080/"
        },
        "outputId": "3aa688d2-2d02-4fb7-dd96-89ac80834064"
      },
      "source": [
        "# a palavra sem dúvida aparece apenas 43 vezes\n",
        "p = re.compile('undoubtedly') #Existe diferença entre maiusculas e minusculas\n",
        "len(p.findall(text))"
      ],
      "execution_count": 7,
      "outputs": [
        {
          "output_type": "execute_result",
          "data": {
            "text/plain": [
              "43"
            ]
          },
          "metadata": {
            "tags": []
          },
          "execution_count": 7
        }
      ]
    },
    {
      "cell_type": "markdown",
      "metadata": {
        "id": "jPiLOqmOy4IP"
      },
      "source": [
        "## Questão 2\n",
        "\n",
        "Os personagens são anunciados deliberadamente na linguagem do cenário na Inglaterra vitoriana. Podemos usar isso mais tarde para encontrar personagens no livro. Mas, por enquanto, vamos praticar em um personagem que conhecemos\n",
        "\n",
        "Quantas vezes Sherlock Holmes é referido por 'Mr. Sherlock Holmes 'vs' Sherlock Holmes 'vs' Mr. Holmes 'vs' Sherlock '"
      ]
    },
    {
      "cell_type": "code",
      "metadata": {
        "scrolled": true,
        "id": "gEappXtUy4IQ",
        "colab": {
          "base_uri": "https://localhost:8080/"
        },
        "outputId": "22936378-59b2-40bf-e3a8-a73de80b7770"
      },
      "source": [
        "#vamos começar com a coisa mais simples. \n",
        "#Vamos apenas encontrar as ocorrências de Sherlock Holmes\n",
        "p = re.compile('Sherlock Holmes')\n",
        "len(p.findall(text))"
      ],
      "execution_count": 8,
      "outputs": [
        {
          "output_type": "execute_result",
          "data": {
            "text/plain": [
              "361"
            ]
          },
          "metadata": {
            "tags": []
          },
          "execution_count": 8
        }
      ]
    },
    {
      "cell_type": "code",
      "metadata": {
        "id": "ED9Egf4oy4IQ",
        "colab": {
          "base_uri": "https://localhost:8080/"
        },
        "outputId": "84e7801e-a086-4012-8efd-5f60e170710e"
      },
      "source": [
        "# uma maneira fácil de resolver isso\n",
        "# é usar apenas o operador 'ou' | com todos os padrões que queremos combinar\n",
        "p = re.compile('Mr\\. Sherlock Holmes|Sherlock Holmes|Mr\\. Holmes|Sherlock|Holmes')\n",
        "results = p.findall(text)\n",
        "counts = {}\n",
        "for r in results:\n",
        "    if r in counts.keys():\n",
        "        counts[r] += 1\n",
        "    else:\n",
        "        counts[r] = 1\n",
        "        \n",
        "counts"
      ],
      "execution_count": 9,
      "outputs": [
        {
          "output_type": "execute_result",
          "data": {
            "text/plain": [
              "{'Holmes': 1646,\n",
              " 'Mr. Holmes': 496,\n",
              " 'Mr. Sherlock Holmes': 93,\n",
              " 'Sherlock': 22,\n",
              " 'Sherlock Holmes': 268}"
            ]
          },
          "metadata": {
            "tags": []
          },
          "execution_count": 9
        }
      ]
    },
    {
      "cell_type": "markdown",
      "metadata": {
        "id": "O8KEQODAy4IQ"
      },
      "source": [
        "Quão apropriado\n",
        "\n",
        "uma coisa a lembrar com REGEX é que raramente há uma única maneira correta de fazer as coisas.\n",
        "\n",
        "Outra estratégia que poderíamos ter tentado seria criar grupos de correspondências opcionais"
      ]
    },
    {
      "cell_type": "code",
      "metadata": {
        "id": "irVJsRK3y4IQ",
        "colab": {
          "base_uri": "https://localhost:8080/"
        },
        "outputId": "d8092fc0-1da4-4718-f2eb-7783c5d48bbc"
      },
      "source": [
        "p = re.compile('((Mr\\.\\s)?(Sherlock\\s)?(Holmes)?)')\n",
        "results = p.findall(text)\n",
        "counts = {}\n",
        "for r in results:\n",
        "    if r[0]:\n",
        "        if r[0] in counts.keys():\n",
        "            counts[r[0].strip()] += 1 # Strip : Remove spaces at the beginning and at the end of the string\n",
        "        else:\n",
        "            counts[r[0].strip()] = 1\n",
        "        \n",
        "counts"
      ],
      "execution_count": 15,
      "outputs": [
        {
          "output_type": "execute_result",
          "data": {
            "text/plain": [
              "{'Holmes': 1646,\n",
              " 'Mr.': 1,\n",
              " 'Mr. Holmes': 496,\n",
              " 'Mr. Sherlock': 1,\n",
              " 'Mr. Sherlock Holmes': 93,\n",
              " 'Sherlock': 1,\n",
              " 'Sherlock Holmes': 268}"
            ]
          },
          "metadata": {
            "tags": []
          },
          "execution_count": 15
        }
      ]
    },
    {
      "cell_type": "markdown",
      "metadata": {
        "id": "f2Pcrc1ky4IR"
      },
      "source": [
        "## Questão 3\n",
        "Encontre todos os médicos da coleção\n",
        "\n",
        "faça uma lista de todos os personagens que aparecem na coleção (dica: Sra. Srta. Dr. etc)"
      ]
    },
    {
      "cell_type": "code",
      "metadata": {
        "id": "R135XeoDy4IR",
        "colab": {
          "base_uri": "https://localhost:8080/"
        },
        "outputId": "c62d9b20-a006-483b-cb5c-7338fa8d3a26"
      },
      "source": [
        "p = re.compile('[MD][irs][s\\.]?[s\\.]? [A-Z]\\w*')\n",
        "set(p.findall(text))\n",
        "    "
      ],
      "execution_count": 16,
      "outputs": [
        {
          "output_type": "execute_result",
          "data": {
            "text/plain": [
              "{'Dr. Ainstree',\n",
              " 'Dr. Armstrong',\n",
              " 'Dr. Barnicot',\n",
              " 'Dr. Becher',\n",
              " 'Dr. Ferrier',\n",
              " 'Dr. Fordham',\n",
              " 'Dr. Grimesby',\n",
              " 'Dr. Horsom',\n",
              " 'Dr. Huxtable',\n",
              " 'Dr. James',\n",
              " 'Dr. Leon',\n",
              " 'Dr. Leslie',\n",
              " 'Dr. Moore',\n",
              " 'Dr. Mortimer',\n",
              " 'Dr. Percy',\n",
              " 'Dr. Richards',\n",
              " 'Dr. Roylott',\n",
              " 'Dr. Shlessinger',\n",
              " 'Dr. Somerton',\n",
              " 'Dr. Sterndale',\n",
              " 'Dr. Thorneycroft',\n",
              " 'Dr. Trevelyan',\n",
              " 'Dr. Watson',\n",
              " 'Dr. Willows',\n",
              " 'Dr. Wood',\n",
              " 'Miss Adler',\n",
              " 'Miss Alice',\n",
              " 'Miss Brenda',\n",
              " 'Miss Burnet',\n",
              " 'Miss Cushing',\n",
              " 'Miss Dobney',\n",
              " 'Miss Doran',\n",
              " 'Miss Edith',\n",
              " 'Miss Ettie',\n",
              " 'Miss Flora',\n",
              " 'Miss Fraser',\n",
              " 'Miss Harrison',\n",
              " 'Miss Hatty',\n",
              " 'Miss Helen',\n",
              " 'Miss Holder',\n",
              " 'Miss Honoria',\n",
              " 'Miss Hunter',\n",
              " 'Miss Irene',\n",
              " 'Miss M',\n",
              " 'Miss Marie',\n",
              " 'Miss Mary',\n",
              " 'Miss Miles',\n",
              " 'Miss Morrison',\n",
              " 'Miss Morstan',\n",
              " 'Miss Nancy',\n",
              " 'Miss Rachel',\n",
              " 'Miss Roylott',\n",
              " 'Miss Rucastle',\n",
              " 'Miss S',\n",
              " 'Miss Sarah',\n",
              " 'Miss Smith',\n",
              " 'Miss Stapleton',\n",
              " 'Miss Stoner',\n",
              " 'Miss Stoper',\n",
              " 'Miss Susan',\n",
              " 'Miss Sutherland',\n",
              " 'Miss Turner',\n",
              " 'Miss Violet',\n",
              " 'Miss Westbury',\n",
              " 'Mr. Abe',\n",
              " 'Mr. Abelwhite',\n",
              " 'Mr. Acton',\n",
              " 'Mr. Alec',\n",
              " 'Mr. Aloysius',\n",
              " 'Mr. Altamont',\n",
              " 'Mr. Ames',\n",
              " 'Mr. Angel',\n",
              " 'Mr. Armitage',\n",
              " 'Mr. Arthur',\n",
              " 'Mr. Athelney',\n",
              " 'Mr. Baker',\n",
              " 'Mr. Baldwin',\n",
              " 'Mr. Barker',\n",
              " 'Mr. Barrymore',\n",
              " 'Mr. Bartholomew',\n",
              " 'Mr. Baynes',\n",
              " 'Mr. Beddoes',\n",
              " 'Mr. Bender',\n",
              " 'Mr. Blessington',\n",
              " 'Mr. Boarder',\n",
              " 'Mr. Breckinridge',\n",
              " 'Mr. Brown',\n",
              " 'Mr. Browner',\n",
              " 'Mr. Busybody',\n",
              " 'Mr. Carruthers',\n",
              " 'Mr. Cecil',\n",
              " 'Mr. Chairman',\n",
              " 'Mr. Charles',\n",
              " 'Mr. Cocksure',\n",
              " 'Mr. Cornelius',\n",
              " 'Mr. Crooked',\n",
              " 'Mr. Cubitt',\n",
              " 'Mr. Culverton',\n",
              " 'Mr. Cunningham',\n",
              " 'Mr. Cyril',\n",
              " 'Mr. Detective',\n",
              " 'Mr. Doran',\n",
              " 'Mr. Douglas',\n",
              " 'Mr. Drebber',\n",
              " 'Mr. Duncan',\n",
              " 'Mr. Eccles',\n",
              " 'Mr. Eduardo',\n",
              " 'Mr. Enoch',\n",
              " 'Mr. Fairdale',\n",
              " 'Mr. Farquhar',\n",
              " 'Mr. Ferguson',\n",
              " 'Mr. Forbes',\n",
              " 'Mr. Fordham',\n",
              " 'Mr. Fowler',\n",
              " 'Mr. Frankland',\n",
              " 'Mr. Garcia',\n",
              " 'Mr. Gilchrist',\n",
              " 'Mr. Godfrey',\n",
              " 'Mr. Grant',\n",
              " 'Mr. Green',\n",
              " 'Mr. Gregson',\n",
              " 'Mr. Hall',\n",
              " 'Mr. Harding',\n",
              " 'Mr. Hardy',\n",
              " 'Mr. Harker',\n",
              " 'Mr. Harris',\n",
              " 'Mr. Harrison',\n",
              " 'Mr. Harry',\n",
              " 'Mr. Hatherley',\n",
              " 'Mr. Hayes',\n",
              " 'Mr. Heath',\n",
              " 'Mr. Henderson',\n",
              " 'Mr. Henry',\n",
              " 'Mr. Hilton',\n",
              " 'Mr. Holder',\n",
              " 'Mr. Holmes',\n",
              " 'Mr. Homes',\n",
              " 'Mr. Hope',\n",
              " 'Mr. Hopkins',\n",
              " 'Mr. Horace',\n",
              " 'Mr. Hosmer',\n",
              " 'Mr. Hugo',\n",
              " 'Mr. Huxtable',\n",
              " 'Mr. Hyam',\n",
              " 'Mr. Hynes',\n",
              " 'Mr. Inspector',\n",
              " 'Mr. Isa',\n",
              " 'Mr. Jabez',\n",
              " 'Mr. Jack',\n",
              " 'Mr. James',\n",
              " 'Mr. Jefferson',\n",
              " 'Mr. Jeremiah',\n",
              " 'Mr. Jeremy',\n",
              " 'Mr. John',\n",
              " 'Mr. Johnson',\n",
              " 'Mr. Jonas',\n",
              " 'Mr. Jones',\n",
              " 'Mr. Joseph',\n",
              " 'Mr. Josiah',\n",
              " 'Mr. Lanner',\n",
              " 'Mr. Latimer',\n",
              " 'Mr. Lestrade',\n",
              " 'Mr. Leverton',\n",
              " 'Mr. Lucas',\n",
              " 'Mr. Mac',\n",
              " 'Mr. MacDonald',\n",
              " 'Mr. McCarthy',\n",
              " 'Mr. McFarlane',\n",
              " 'Mr. McGinty',\n",
              " 'Mr. McMurdo',\n",
              " 'Mr. Melas',\n",
              " 'Mr. Merryweather',\n",
              " 'Mr. Milverton',\n",
              " 'Mr. Mordecai',\n",
              " 'Mr. Moriarty',\n",
              " 'Mr. Morris',\n",
              " 'Mr. Morse',\n",
              " 'Mr. Mortimer',\n",
              " 'Mr. Moulton',\n",
              " 'Mr. Munro',\n",
              " 'Mr. Murray',\n",
              " 'Mr. Musgrave',\n",
              " 'Mr. Mycroft',\n",
              " 'Mr. Neville',\n",
              " 'Mr. Oberstein',\n",
              " 'Mr. Oldacre',\n",
              " 'Mr. Overton',\n",
              " 'Mr. Patrick',\n",
              " 'Mr. Percy',\n",
              " 'Mr. Peters',\n",
              " 'Mr. Phelps',\n",
              " 'Mr. Pickwick',\n",
              " 'Mr. Pinner',\n",
              " 'Mr. Price',\n",
              " 'Mr. Pycroft',\n",
              " 'Mr. Reuben',\n",
              " 'Mr. Roundhay',\n",
              " 'Mr. Rucastle',\n",
              " 'Mr. Ryder',\n",
              " 'Mr. Sandeford',\n",
              " 'Mr. Scott',\n",
              " 'Mr. Shafter',\n",
              " 'Mr. Sherlock',\n",
              " 'Mr. Sherman',\n",
              " 'Mr. Sholto',\n",
              " 'Mr. Sidney',\n",
              " 'Mr. Silas',\n",
              " 'Mr. Slaney',\n",
              " 'Mr. Smith',\n",
              " 'Mr. Soames',\n",
              " 'Mr. St',\n",
              " 'Mr. Standback',\n",
              " 'Mr. Stanger',\n",
              " 'Mr. Stangerson',\n",
              " 'Mr. Stapleton',\n",
              " 'Mr. Staunton',\n",
              " 'Mr. Thaddeus',\n",
              " 'Mr. Theorist',\n",
              " 'Mr. Treasurer',\n",
              " 'Mr. Tregennis',\n",
              " 'Mr. Trelawney',\n",
              " 'Mr. Trevor',\n",
              " 'Mr. Turner',\n",
              " 'Mr. Victor',\n",
              " 'Mr. Von',\n",
              " 'Mr. Warren',\n",
              " 'Mr. White',\n",
              " 'Mr. Wilder',\n",
              " 'Mr. William',\n",
              " 'Mr. Williamson',\n",
              " 'Mr. Willoughby',\n",
              " 'Mr. Wilson',\n",
              " 'Mr. Windibank',\n",
              " 'Mr. Windigate',\n",
              " 'Mr. Woodley',\n",
              " 'Mrs. Allen',\n",
              " 'Mrs. Barclay',\n",
              " 'Mrs. Barrymore',\n",
              " 'Mrs. Bernstone',\n",
              " 'Mrs. Browner',\n",
              " 'Mrs. Carey',\n",
              " 'Mrs. Cecil',\n",
              " 'Mrs. Charpentier',\n",
              " 'Mrs. Dixon',\n",
              " 'Mrs. Douglas',\n",
              " 'Mrs. Etherege',\n",
              " 'Mrs. Farintosh',\n",
              " 'Mrs. Forrester',\n",
              " 'Mrs. Francis',\n",
              " 'Mrs. Hayes',\n",
              " 'Mrs. Hebron',\n",
              " 'Mrs. Henry',\n",
              " 'Mrs. Hilton',\n",
              " 'Mrs. Hudson',\n",
              " 'Mrs. King',\n",
              " 'Mrs. Larbey',\n",
              " 'Mrs. Laura',\n",
              " 'Mrs. Lexington',\n",
              " 'Mrs. Lucca',\n",
              " 'Mrs. Lyons',\n",
              " 'Mrs. Marker',\n",
              " 'Mrs. McGregor',\n",
              " 'Mrs. Moulton',\n",
              " 'Mrs. Oakshott',\n",
              " 'Mrs. Oldmore',\n",
              " 'Mrs. Peters',\n",
              " 'Mrs. Porter',\n",
              " 'Mrs. Pringle',\n",
              " 'Mrs. Rucastle',\n",
              " 'Mrs. Sawyer',\n",
              " 'Mrs. Shlessinger',\n",
              " 'Mrs. Smith',\n",
              " 'Mrs. St',\n",
              " 'Mrs. Stapleton',\n",
              " 'Mrs. Stewart',\n",
              " 'Mrs. Stoner',\n",
              " 'Mrs. Straker',\n",
              " 'Mrs. Tangey',\n",
              " 'Mrs. Toller',\n",
              " 'Mrs. Turner',\n",
              " 'Mrs. Vandeleur',\n",
              " 'Mrs. Warren',\n",
              " 'Mrs. Watson',\n",
              " 'Mrs. Woodley'}"
            ]
          },
          "metadata": {
            "tags": []
          },
          "execution_count": 16
        }
      ]
    },
    {
      "cell_type": "markdown",
      "metadata": {
        "id": "imC1uhfsy4IR"
      },
      "source": [
        "## Questão 4\n",
        "\n",
        "* Pesquise todos os anos e datas que aparecem na história"
      ]
    },
    {
      "cell_type": "code",
      "metadata": {
        "scrolled": true,
        "id": "ITVSyPEay4IR",
        "colab": {
          "base_uri": "https://localhost:8080/"
        },
        "outputId": "fec6457d-42e7-46be-a9b3-3a57181cf3e8"
      },
      "source": [
        "# podemos usar \\ d para corresponder a qualquer dígito\n",
        "p = re.compile('1[89]\\d\\d')\n",
        "p.findall(text)"
      ],
      "execution_count": 17,
      "outputs": [
        {
          "output_type": "execute_result",
          "data": {
            "text/plain": [
              "['1878',\n",
              " '1860',\n",
              " '1857',\n",
              " '1871',\n",
              " '1878',\n",
              " '1878',\n",
              " '1882',\n",
              " '1882',\n",
              " '1882',\n",
              " '1888',\n",
              " '1858',\n",
              " '1890',\n",
              " '1890',\n",
              " '1869',\n",
              " '1870',\n",
              " '1878',\n",
              " '1883',\n",
              " '1883',\n",
              " '1869',\n",
              " '1869',\n",
              " '1884',\n",
              " '1887',\n",
              " '1846',\n",
              " '1855',\n",
              " '1875',\n",
              " '1891',\n",
              " '1890',\n",
              " '1891',\n",
              " '1894',\n",
              " '1894',\n",
              " '1840',\n",
              " '1881',\n",
              " '1884',\n",
              " '1887',\n",
              " '1894',\n",
              " '1901',\n",
              " '1895',\n",
              " '1900',\n",
              " '1888',\n",
              " '1872',\n",
              " '1883',\n",
              " '1884',\n",
              " '1883',\n",
              " '1883',\n",
              " '1883',\n",
              " '1883',\n",
              " '1894',\n",
              " '1884',\n",
              " '1882',\n",
              " '1882',\n",
              " '1884',\n",
              " '1882',\n",
              " '1883',\n",
              " '1876',\n",
              " '1800',\n",
              " '1865',\n",
              " '1875',\n",
              " '1872',\n",
              " '1874',\n",
              " '1875',\n",
              " '1892',\n",
              " '1895',\n",
              " '1897',\n",
              " '1914',\n",
              " '1911',\n",
              " '1915']"
            ]
          },
          "metadata": {
            "tags": []
          },
          "execution_count": 17
        }
      ]
    },
    {
      "cell_type": "code",
      "metadata": {
        "colab": {
          "base_uri": "https://localhost:8080/"
        },
        "id": "N-4ZdnhLzK-z",
        "outputId": "7d0f9042-23c8-4050-fff4-c9dd51edc483"
      },
      "source": [
        "# podemos usar \\ d para corresponder a qualquer dígito\r\n",
        "p = re.compile('1[6789]\\d\\d') # \\d procura qualquer dígito decimal\r\n",
        "p.findall(text)"
      ],
      "execution_count": 23,
      "outputs": [
        {
          "output_type": "execute_result",
          "data": {
            "text/plain": [
              "['1878',\n",
              " '1642',\n",
              " '1860',\n",
              " '1857',\n",
              " '1871',\n",
              " '1878',\n",
              " '1878',\n",
              " '1882',\n",
              " '1882',\n",
              " '1882',\n",
              " '1888',\n",
              " '1858',\n",
              " '1890',\n",
              " '1890',\n",
              " '1869',\n",
              " '1870',\n",
              " '1878',\n",
              " '1883',\n",
              " '1883',\n",
              " '1869',\n",
              " '1869',\n",
              " '1884',\n",
              " '1887',\n",
              " '1846',\n",
              " '1855',\n",
              " '1607',\n",
              " '1875',\n",
              " '1891',\n",
              " '1890',\n",
              " '1891',\n",
              " '1894',\n",
              " '1894',\n",
              " '1840',\n",
              " '1881',\n",
              " '1884',\n",
              " '1887',\n",
              " '1894',\n",
              " '1901',\n",
              " '1895',\n",
              " '1900',\n",
              " '1888',\n",
              " '1872',\n",
              " '1883',\n",
              " '1884',\n",
              " '1883',\n",
              " '1883',\n",
              " '1883',\n",
              " '1883',\n",
              " '1894',\n",
              " '1884',\n",
              " '1882',\n",
              " '1882',\n",
              " '1884',\n",
              " '1882',\n",
              " '1883',\n",
              " '1730',\n",
              " '1742',\n",
              " '1742',\n",
              " '1876',\n",
              " '1647',\n",
              " '1750',\n",
              " '1800',\n",
              " '1865',\n",
              " '1750',\n",
              " '1644',\n",
              " '1875',\n",
              " '1872',\n",
              " '1874',\n",
              " '1875',\n",
              " '1892',\n",
              " '1895',\n",
              " '1897',\n",
              " '1914',\n",
              " '1911',\n",
              " '1915']"
            ]
          },
          "metadata": {
            "tags": []
          },
          "execution_count": 23
        }
      ]
    },
    {
      "cell_type": "markdown",
      "metadata": {
        "id": "Ow8k2xSRy4IS"
      },
      "source": [
        "## Questão 5\n",
        "\n",
        "Sherlock Holmes está frequentemente fumando seu cachimbo. Mas, como muitos verbos em inglês, existem muitas maneiras de a palavra fumar ser conjugada, dependendo do contexto.\n",
        "\n",
        "* capturar todas as frases sobre fumo (fumo, fumo, fumo, fumado)\n",
        "* capture as duas palavras que aparecem após a palavra para fumar\n",
        "* capture as duas palavras que aparecem antes da palavra para fumar"
      ]
    },
    {
      "cell_type": "code",
      "metadata": {
        "scrolled": true,
        "id": "V8tZxJXty4IS",
        "colab": {
          "base_uri": "https://localhost:8080/"
        },
        "outputId": "493de028-0051-487a-b2eb-d4c42c433a69"
      },
      "source": [
        "p = re.compile('\\.[ A-Za-z]+smok[ A-Za-z]+\\.')\n",
        "p.findall(text)"
      ],
      "execution_count": 28,
      "outputs": [
        {
          "output_type": "execute_result",
          "data": {
            "text/plain": [
              "['. I am going to smoke and to think over this queer business to which my fair client has introduced us.',\n",
              " '. I would have thought no more of knifing him than of smoking this cigar.',\n",
              " '. The smoke and shouting were enough to shake nerves of steel.',\n",
              " '. He had even smoked there.',\n",
              " '. Then I went into the back yard and smoked a pipe and wondered what it would be best to do.',\n",
              " '. As we rolled into Eyford Station we saw a gigantic column of smoke which streamed up from behind a small clump of trees in the neighbourhood and hung like an immense ostrich feather over the landscape.',\n",
              " '. Then he lit his pipe and sat for some time smoking and turning them over.',\n",
              " '. I had smoked two cigarettes before he moved.',\n",
              " '.  We had breakfasted and were smoking our morning pipe on the day after the remarkable experience which I have recorded when Mr.',\n",
              " '. I observed that he was smoking with extraordinary rapidity.',\n",
              " '. He does smoke something terrible.',\n",
              " '. From over a distant rise there floated a gray plume of smoke.',\n",
              " '. This might partly be due to the fact that a lamp stood flaring and smoking on the centre table.']"
            ]
          },
          "metadata": {
            "tags": []
          },
          "execution_count": 28
        }
      ]
    },
    {
      "cell_type": "code",
      "metadata": {
        "colab": {
          "base_uri": "https://localhost:8080/"
        },
        "id": "qTfdm5DMH6CI",
        "outputId": "a4e7f7cb-69cb-4d25-f767-9583928f4162"
      },
      "source": [
        "p = re.compile('smok[ A-Za-z]+\\.')\r\n",
        "p.findall(text)"
      ],
      "execution_count": 29,
      "outputs": [
        {
          "output_type": "execute_result",
          "data": {
            "text/plain": [
              "['smoked a Trichinopoly cigar.',\n",
              " 'smoking his pipe.',\n",
              " 'smoke and to think over this queer business to which my fair client has introduced us.',\n",
              " 'smoking this cigar.',\n",
              " 'smoking in silence.',\n",
              " 'smoke curled through the room and out at the open window.',\n",
              " 'smoke and shouting were enough to shake nerves of steel.',\n",
              " 'smoked there.',\n",
              " 'smoked a cigar and waited behind a tree until he should be alone.',\n",
              " 'smoke like so many pistol shots.',\n",
              " 'smoked a pipe and wondered what it would be best to do.',\n",
              " 'smoke.',\n",
              " 'smoke which streamed up from behind a small clump of trees in the neighbourhood and hung like an immense ostrich feather over the landscape.',\n",
              " 'smoking and turning them over.',\n",
              " 'smoking pistol in his hand at his elbow.',\n",
              " 'smoke that we could not see across the table.',\n",
              " 'smoke thinned away there was no sign left of the Gloria Scott.',\n",
              " 'smoking when the alarm was given.',\n",
              " 'smoke a pipe with you with pleasure.',\n",
              " 'smoked for some time in silence.',\n",
              " 'smoked.',\n",
              " 'smoke of his cigarette as if the soothing influence was grateful to him.',\n",
              " 'smoke.',\n",
              " 'smoke from a burning house.',\n",
              " 'smoked she had opened the window.',\n",
              " 'smoke and the smell of powder.',\n",
              " 'smoked two cigarettes before he moved.',\n",
              " 'smoking a black clay pipe.',\n",
              " 'smoked very little.',\n",
              " 'smoked not long before.',\n",
              " 'smoke.',\n",
              " 'smoke from his lips as he did so.',\n",
              " 'smoking our morning pipe on the day after the remarkable experience which I have recorded when Mr.',\n",
              " 'smoke to pass the time.',\n",
              " 'smoke.',\n",
              " 'smoking with extraordinary rapidity.',\n",
              " 'smoker than I am myself.',\n",
              " 'smoke something terrible.',\n",
              " 'smoking.',\n",
              " 'smoked for some time in silence.',\n",
              " 'smoke up to the ceiling.',\n",
              " 'smoking a cigar.',\n",
              " 'smoke that the light of the lamp upon the table was blurred by it.',\n",
              " 'smoke.',\n",
              " 'smoke a cigarette.',\n",
              " 'smoke.',\n",
              " 'smoking cigarettes without making the least sound.',\n",
              " 'smoke which marked the village of Grimpen.',\n",
              " 'smoke and heavy with the smell of spirits.',\n",
              " 'smoked this.',\n",
              " 'smoking on the centre table.',\n",
              " 'smoking a cigar and watching what occurred.']"
            ]
          },
          "metadata": {
            "tags": []
          },
          "execution_count": 29
        }
      ]
    },
    {
      "cell_type": "code",
      "metadata": {
        "colab": {
          "base_uri": "https://localhost:8080/"
        },
        "id": "HjEt6Fl9IJUw",
        "outputId": "361a8582-b6ff-462d-972c-514537110464"
      },
      "source": [
        "p = re.compile('\\.[ A-Za-z]+smok')\r\n",
        "p.findall(text)"
      ],
      "execution_count": 30,
      "outputs": [
        {
          "output_type": "execute_result",
          "data": {
            "text/plain": [
              "['. I am going to smok',\n",
              " '. I would have thought no more of knifing him than of smok',\n",
              " '. There was a group of shabbily dressed men smok',\n",
              " '. The smok',\n",
              " '. I have a caseful of cigarettes here which need smok',\n",
              " '. The drawn blinds and the smok',\n",
              " '. He had even smok',\n",
              " '. He drank a great deal of brandy and smok',\n",
              " '. Then I went into the back yard and smok',\n",
              " '. As we rolled into Eyford Station we saw a gigantic column of smok',\n",
              " '. If you care to smok',\n",
              " '. Then he lit his pipe and sat for some time smok',\n",
              " '. Suddenly as we looked at her we saw a dense black cloud of smok',\n",
              " '. Alec was smok',\n",
              " '. Seems to have smok',\n",
              " '.  His brother Mycroft was sitting smok',\n",
              " '. I had smok',\n",
              " '.  We had breakfasted and were smok',\n",
              " '. I observed that he was smok',\n",
              " '. He does smok',\n",
              " '. I therefore smok',\n",
              " '. I should not sit here smok',\n",
              " '. From over a distant rise there floated a gray plume of smok',\n",
              " '. She had come from the direction in which the plume of smok',\n",
              " '. Both of them were smok',\n",
              " '. These sat smok',\n",
              " '. Down that long valley there was at least a certain gloomy grandeur in the huge fires and the clouds of drifting smok',\n",
              " '. Holmes smok',\n",
              " '. Therefore I shall expect to meet you in the smok',\n",
              " '. A high bald head had a small velvet smok',\n",
              " '. Culverton Smith smiled pleasantly and picked up his smok',\n",
              " '. I left him smok',\n",
              " '. This might partly be due to the fact that a lamp stood flaring and smok',\n",
              " '. During this time Holmes spent some of his time smok',\n",
              " '. The obvious place to look was the talc shelf or smok']"
            ]
          },
          "metadata": {
            "tags": []
          },
          "execution_count": 30
        }
      ]
    },
    {
      "cell_type": "markdown",
      "metadata": {
        "id": "6bhhv7PPy4IS"
      },
      "source": [
        "    \n",
        "## Questão 6\n",
        "\n",
        "Freqüentemente, recebemos um bloco de texto não estruturado e queremos usar REGEX para fornecer alguma estrutura. Nesse caso, podemos dividir o livro por capítulo.\n",
        "\n",
        "* use a função re.split () para dividir os livros por capítulo."
      ]
    },
    {
      "cell_type": "code",
      "metadata": {
        "id": "Sk1Q1Bepy4IS",
        "colab": {
          "base_uri": "https://localhost:8080/"
        },
        "outputId": "023fdee8-45f2-4c59-e801-81791fe25f58"
      },
      "source": [
        "p = re.compile('CHAPTER\\s[IVX]+')\n",
        "p.findall(text)"
      ],
      "execution_count": 31,
      "outputs": [
        {
          "output_type": "execute_result",
          "data": {
            "text/plain": [
              "['CHAPTER I',\n",
              " 'CHAPTER II',\n",
              " 'CHAPTER III',\n",
              " 'CHAPTER IV',\n",
              " 'CHAPTER V',\n",
              " 'CHAPTER VI',\n",
              " 'CHAPTER VII',\n",
              " 'CHAPTER I',\n",
              " 'CHAPTER II',\n",
              " 'CHAPTER III',\n",
              " 'CHAPTER IV',\n",
              " 'CHAPTER V',\n",
              " 'CHAPTER VI',\n",
              " 'CHAPTER VII',\n",
              " 'CHAPTER I',\n",
              " 'CHAPTER II',\n",
              " 'CHAPTER III',\n",
              " 'CHAPTER IV',\n",
              " 'CHAPTER V',\n",
              " 'CHAPTER VI',\n",
              " 'CHAPTER VII',\n",
              " 'CHAPTER VIII',\n",
              " 'CHAPTER IX',\n",
              " 'CHAPTER X',\n",
              " 'CHAPTER XI',\n",
              " 'CHAPTER XII',\n",
              " 'CHAPTER I',\n",
              " 'CHAPTER II',\n",
              " 'CHAPTER III',\n",
              " 'CHAPTER I',\n",
              " 'CHAPTER II',\n",
              " 'CHAPTER III',\n",
              " 'CHAPTER IV',\n",
              " 'CHAPTER V',\n",
              " 'CHAPTER VI',\n",
              " 'CHAPTER VII',\n",
              " 'CHAPTER VIII',\n",
              " 'CHAPTER IX',\n",
              " 'CHAPTER X',\n",
              " 'CHAPTER XI',\n",
              " 'CHAPTER XII',\n",
              " 'CHAPTER XIII',\n",
              " 'CHAPTER XIV',\n",
              " 'CHAPTER XV',\n",
              " 'CHAPTER I',\n",
              " 'CHAPTER II',\n",
              " 'CHAPTER III',\n",
              " 'CHAPTER IV',\n",
              " 'CHAPTER V',\n",
              " 'CHAPTER VI',\n",
              " 'CHAPTER VII',\n",
              " 'CHAPTER I',\n",
              " 'CHAPTER II',\n",
              " 'CHAPTER III',\n",
              " 'CHAPTER IV',\n",
              " 'CHAPTER V',\n",
              " 'CHAPTER VI',\n",
              " 'CHAPTER VII',\n",
              " 'CHAPTER VIII',\n",
              " 'CHAPTER I',\n",
              " 'CHAPTER II',\n",
              " 'CHAPTER I',\n",
              " 'CHAPTER II']"
            ]
          },
          "metadata": {
            "tags": []
          },
          "execution_count": 31
        }
      ]
    },
    {
      "cell_type": "code",
      "metadata": {
        "colab": {
          "base_uri": "https://localhost:8080/"
        },
        "id": "tAYLSU_qKF44",
        "outputId": "d8c940b7-1db0-40ea-cc62-d9bfcaec0126"
      },
      "source": [
        "p = re.compile('CHAPTER\\s[ A-Za-z]+')\r\n",
        "p.findall(text)"
      ],
      "execution_count": 41,
      "outputs": [
        {
          "output_type": "execute_result",
          "data": {
            "text/plain": [
              "['CHAPTER I Mr',\n",
              " 'CHAPTER II The Science Of Deduction   We met next day as he had arranged',\n",
              " 'CHAPTER III The Lauriston Garden Mystery   I confess that I was considerably startled by this fresh proof of the practical nature of my companion',\n",
              " 'CHAPTER IV What John Rance Had To Tell   It was one o',\n",
              " 'CHAPTER V Our Advertisement Brings A Visitor   Our morning',\n",
              " 'CHAPTER VI Tobias Gregson Shows What He Can Do   The papers next day were full of the ',\n",
              " 'CHAPTER VII Light In The Darkness   The intelligence with which Lestrade greeted us was so momentous and so unexpected',\n",
              " 'CHAPTER I On The Great Alkali Plain   In the central portion of the great North American Continent there lies an arid and repulsive desert',\n",
              " 'CHAPTER II The Flower Of Utah   This is not the place to commemorate the trials and privations endured by the immigrant Mormons before they came to their final haven',\n",
              " 'CHAPTER III John Ferrier Talks With The Prophet   Three weeks had passed since Jefferson Hope and his comrades had departed from Salt Lake City',\n",
              " 'CHAPTER IV A Flight For Life   On the morning which followed his interview with the Mormon Prophet',\n",
              " 'CHAPTER V The Avenging Angels   All night their course lay through intricate defiles and over irregular and rock',\n",
              " 'CHAPTER VI A Continuation Of The Reminiscences Of John Watson',\n",
              " 'CHAPTER VII The Conclusion   We had all been warned to appear before the magistrates upon the Thursday',\n",
              " 'CHAPTER I The Science of Deduction   Sherlock Holmes took his bottle from the corner of the mantelpiece and his hypodermic syringe from its neat morocco case',\n",
              " 'CHAPTER II The Statement of the Case   Miss Morstan entered the room with a firm step and an outward composure of manner',\n",
              " 'CHAPTER III In Quest of a Solution   It was half',\n",
              " 'CHAPTER IV The Story of the Bald',\n",
              " 'CHAPTER V The Tragedy of Pondicherry Lodge   It was nearly eleven o',\n",
              " 'CHAPTER VI Sherlock Holmes Gives a Demonstration   ',\n",
              " 'CHAPTER VII The Episode of the Barrel   The police had brought a cab with them',\n",
              " 'CHAPTER VIII The Baker Street Irregulars   ',\n",
              " 'CHAPTER IX A Break in the Chain   It was late in the afternoon before I woke',\n",
              " 'CHAPTER X The End of the Islander   Our meal was a merry one',\n",
              " 'CHAPTER XI The Great Agra Treasure   Our captive sat in the cabin opposite to the iron box which he had done so much and waited so long to gain',\n",
              " 'CHAPTER XII The Strange Story of Jonathan Small   A very patient man was that inspector in the cab',\n",
              " 'CHAPTER I    To Sherlock Holmes she is always the woman',\n",
              " 'CHAPTER II    At three o',\n",
              " 'CHAPTER III    I slept at Baker Street that night',\n",
              " 'CHAPTER I Mr',\n",
              " 'CHAPTER II The Curse of the Baskervilles   ',\n",
              " 'CHAPTER III The Problem   I confess at these words a shudder passed through me',\n",
              " 'CHAPTER IV Sir Henry Baskerville   Our breakfast',\n",
              " 'CHAPTER V Three Broken Threads   Sherlock Holmes had',\n",
              " 'CHAPTER VI Baskerville Hall   Sir Henry Baskerville and Dr',\n",
              " 'CHAPTER VII The Stapletons of Merripit House   The fresh beauty of the following morning did something to efface from our minds the grim and gray impression which had been left upon both of us by our first experience of Baskerville Hall',\n",
              " 'CHAPTER VIII First Report of Dr',\n",
              " 'CHAPTER IX Second Report of Dr',\n",
              " 'CHAPTER X Extract from the Diary of Dr',\n",
              " 'CHAPTER XI The Man on the Tor   The extract from my private diary which forms the last chapter has brought my narrative up to the ',\n",
              " 'CHAPTER XII Death on the Moor   For a moment or two I sat breathless',\n",
              " 'CHAPTER XIII Fixing the Nets   ',\n",
              " 'CHAPTER XIV The Hound of the Baskervilles   One of Sherlock Holmes',\n",
              " 'CHAPTER XV A Retrospection   It was the end of November and Holmes and I sat',\n",
              " 'CHAPTER I The Warning   ',\n",
              " 'CHAPTER II Sherlock Holmes Discourses   It was one of those dramatic moments for which my friend existed',\n",
              " 'CHAPTER III The Tragedy of Birlstone   Now for a moment I will ask leave to remove my own insignificant personality and to describe events which occurred before we arrived upon the scene by the light of knowledge which came to us afterwards',\n",
              " 'CHAPTER IV Darkness   At three in the morning the chief Sussex detective',\n",
              " 'CHAPTER V The People Of the Drama   ',\n",
              " 'CHAPTER VI A Dawning Light   The three detectives had many matters of detail into which to inquire',\n",
              " 'CHAPTER VII The Solution   Next morning',\n",
              " 'CHAPTER I The Man   It was the fourth of February in the year ',\n",
              " 'CHAPTER II The Bodymaster   McMurdo was a man who made his mark quickly',\n",
              " 'CHAPTER III Lodge ',\n",
              " 'CHAPTER IV The Valley of Fear   When McMurdo awoke next morning he had good reason to remember his initiation into the lodge',\n",
              " 'CHAPTER V The Darkest Hour   If anything had been needed to give an impetus to Jack McMurdo',\n",
              " 'CHAPTER VI Danger   It was the height of the reign of terror',\n",
              " 'CHAPTER VII The Trapping of Birdy Edwards   As McMurdo had said',\n",
              " 'CHAPTER VIII Epilogue   The police trial had passed',\n",
              " 'CHAPTER I The Singular Experience of Mr',\n",
              " 'CHAPTER II The Tiger of San Pedro   A cold and melancholy walk of a couple of miles brought us to a high wooden gate',\n",
              " 'CHAPTER I Part One   ',\n",
              " 'CHAPTER II Part Two   As we walked rapidly down Howe Street I glanced back at the building which we had left']"
            ]
          },
          "metadata": {
            "tags": []
          },
          "execution_count": 41
        }
      ]
    },
    {
      "cell_type": "code",
      "metadata": {
        "id": "dKf4hVzEy4IT",
        "colab": {
          "base_uri": "https://localhost:8080/",
          "height": 120
        },
        "outputId": "53193778-dec2-4688-bd58-cd182cf5f56e"
      },
      "source": [
        "p.split(text)[3]"
      ],
      "execution_count": 42,
      "outputs": [
        {
          "output_type": "execute_result",
          "data": {
            "application/vnd.google.colaboratory.intrinsic+json": {
              "type": "string"
            },
            "text/plain": [
              "'\\'s theories. My respect for his powers of analysis increased wondrously. There still remained some lurking suspicion in my mind, however, that the whole thing was a pre-arranged episode, intended to dazzle me, though what earthly object he could have in taking me in was past my comprehension. When I looked at him he had finished reading the note, and his eyes had assumed the vacant, lack-lustre expression which showed mental abstraction.  \"How in the world did you deduce that?\" I asked.  \"Deduce what?\" said he, petulantly.  \"Why, that he was a retired sergeant of Marines.\"  \"I have no time for trifles,\" he answered, brusquely; then with a smile, \"Excuse my rudeness. You broke the thread of my thoughts; but perhaps it is as well. So you actually were not able to see that that man was a sergeant of Marines?\"  \"No, indeed.\"  \"It was easier to know it than to explain why I knew it. If you were asked to prove that two and two made four, you might find some difficulty, and yet you are quite sure of the fact. Even across the street I could see a great blue anchor tattooed on the back of the fellow\\'s hand. That smacked of the sea. He had a military carriage, however, and regulation side whiskers. There we have the marine. He was a man with some amount of self-importance and a certain air of command. You must have observed the way in which he held his head and swung his cane. A steady, respectable, middle-aged man, too, on the face of him--all facts which led me to believe that he had been a sergeant.\"  \"Wonderful!\" I ejaculated.  \"Commonplace,\" said Holmes, though I thought from his expression that he was pleased at my evident surprise and admiration. \"I said just now that there were no criminals. It appears that I am wrong--look at this!\" He threw me over the note which the commissionaire had brought.  \"Why,\" I cried, as I cast my eye over it, \"this is terrible!\"  \"It does seem to be a little out of the common,\" he remarked, calmly. \"Would you mind reading it to me aloud?\"  This is the letter which I read to him--  \"My dear Mr. Sherlock Holmes: \"There has been a bad business during the night at 3, Lauriston Gardens, off the Brixton Road. Our man on the beat saw a light there about two in the morning, and as the house was an empty one, suspected that something was amiss. He found the door open, and in the front room, which is bare of furniture, discovered the body of a gentleman, well dressed, and having cards in his pocket bearing the name of \\'Enoch J. Drebber, Cleveland, Ohio, U.S.A.\\' There had been no robbery, nor is there any evidence as to how the man met his death. There are marks of blood in the room, but there is no wound upon his person. We are at a loss as to how he came into the empty house; indeed, the whole affair is a puzzler. If you can come round to the house any time before twelve, you will find me there. I have left everything in statu quo until I hear from you. If you are unable to come I shall give you fuller details, and would esteem it a great kindness if you would favour me with your opinion. \"Yours faithfully, \"Tobias Gregson.\"  \"Gregson is the smartest of the Scotland Yarders,\" my friend remarked; \"he and Lestrade are the pick of a bad lot. They are both quick and energetic, but conventional--shockingly so. They have their knives into one another, too. They are as jealous as a pair of professional beauties. There will be some fun over this case if they are both put upon the scent.\"  I was amazed at the calm way in which he rippled on. \"Surely there is not a moment to be lost,\" I cried, \"shall I go and order you a cab?\"  \"I\\'m not sure about whether I shall go. I am the most incurably lazy devil that ever stood in shoe leather--that is, when the fit is on me, for I can be spry enough at times.\"  \"Why, it is just such a chance as you have been longing for.\"  \"My dear fellow, what does it matter to me. Supposing I unravel the whole matter, you may be sure that Gregson, Lestrade, and Co. will pocket all the credit. That comes of being an unofficial personage.\"  \"But he begs you to help him.\"  \"Yes. He knows that I am his superior, and acknowledges it to me; but he would cut his tongue out before he would own it to any third person. However, we may as well go and have a look. I shall work it out on my own hook. I may have a laugh at them if I have nothing else. Come on!\"  He hustled on his overcoat, and bustled about in a way that showed that an energetic fit had superseded the apathetic one.  \"Get your hat,\" he said.  \"You wish me to come?\"  \"Yes, if you have nothing better to do.\" A minute later we were both in a hansom, driving furiously for the Brixton Road.  It was a foggy, cloudy morning, and a dun-coloured veil hung over the house-tops, looking like the reflection of the mud-coloured streets beneath. My companion was in the best of spirits, and prattled away about Cremona fiddles, and the difference between a Stradivarius and an Amati. As for myself, I was silent, for the dull weather and the melancholy business upon which we were engaged, depressed my spirits.  \"You don\\'t seem to give much thought to the matter in hand,\" I said at last, interrupting Holmes\\' musical disquisition.  \"No data yet,\" he answered. \"It is a capital mistake to theorize before you have all the evidence. It biases the judgment.\"  \"You will have your data soon,\" I remarked, pointing with my finger; \"this is the Brixton Road, and that is the house, if I am not very much mistaken.\"  \"So it is. Stop, driver, stop!\" We were still a hundred yards or so from it, but he insisted upon our alighting, and we finished our journey upon foot.  Number 3, Lauriston Gardens wore an ill-omened and minatory look. It was one of four which stood back some little way from the street, two being occupied and two empty. The latter looked out with three tiers of vacant melancholy windows, which were blank and dreary, save that here and there a \"To Let\" card had developed like a cataract upon the bleared panes. A small garden sprinkled over with a scattered eruption of sickly plants separated each of these houses from the street, and was traversed by a narrow pathway, yellowish in colour, and consisting apparently of a mixture of clay and of gravel. The whole place was very sloppy from the rain which had fallen through the night. The garden was bounded by a three-foot brick wall with a fringe of wood rails upon the top, and against this wall was leaning a stalwart police constable, surrounded by a small knot of loafers, who craned their necks and strained their eyes in the vain hope of catching some glimpse of the proceedings within.  I had imagined that Sherlock Holmes would at once have hurried into the house and plunged into a study of the mystery. Nothing appeared to be further from his intention. With an air of nonchalance which, under the circumstances, seemed to me to border upon affectation, he lounged up and down the pavement, and gazed vacantly at the ground, the sky, the opposite houses and the line of railings. Having finished his scrutiny, he proceeded slowly down the path, or rather down the fringe of grass which flanked the path, keeping his eyes riveted upon the ground. Twice he stopped, and once I saw him smile, and heard him utter an exclamation of satisfaction. There were many marks of footsteps upon the wet clayey soil, but since the police had been coming and going over it, I was unable to see how my companion could hope to learn anything from it. Still I had had such extraordinary evidence of the quickness of his perceptive faculties, that I had no doubt that he could see a great deal which was hidden from me.  At the door of the house we were met by a tall, white-faced, flaxen-haired man, with a notebook in his hand, who rushed forward and wrung my companion\\'s hand with effusion. \"It is indeed kind of you to come,\" he said, \"I have had everything left untouched.\"  \"Except that!\" my friend answered, pointing at the pathway. \"If a herd of buffaloes had passed along there could not be a greater mess. No doubt, however, you had drawn your own conclusions, Gregson, before you permitted this.\"  \"I have had so much to do inside the house,\" the detective said evasively. \"My colleague, Mr. Lestrade, is here. I had relied upon him to look after this.\"  Holmes glanced at me and raised his eyebrows sardonically. \"With two such men as yourself and Lestrade upon the ground, there will not be much for a third party to find out,\" he said.  Gregson rubbed his hands in a self-satisfied way. \"I think we have done all that can be done,\" he answered; \"it\\'s a queer case though, and I knew your taste for such things.\"  \"You did not come here in a cab?\" asked Sherlock Holmes.  \"No, sir.\"  \"Nor Lestrade?\"  \"No, sir.\"  \"Then let us go and look at the room.\" With which inconsequent remark he strode on into the house, followed by Gregson, whose features expressed his astonishment.  A short passage, bare planked and dusty, led to the kitchen and offices. Two doors opened out of it to the left and to the right. One of these had obviously been closed for many weeks. The other belonged to the dining-room, which was the apartment in which the mysterious affair had occurred. Holmes walked in, and I followed him with that subdued feeling at my heart which the presence of death inspires.  It was a large square room, looking all the larger from the absence of all furniture. A vulgar flaring paper adorned the walls, but it was blotched in places with mildew, and here and there great strips had become detached and hung down, exposing the yellow plaster beneath. Opposite the door was a showy fireplace, surmounted by a mantelpiece of imitation white marble. On one corner of this was stuck the stump of a red wax candle. The solitary window was so dirty that the light was hazy and uncertain, giving a dull grey tinge to everything, which was intensified by the thick layer of dust which coated the whole apartment.  All these details I observed afterwards. At present my attention was centred upon the single grim motionless figure which lay stretched upon the boards, with vacant sightless eyes staring up at the discoloured ceiling. It was that of a man about forty-three or forty-four years of age, middle-sized, broad shouldered, with crisp curling black hair, and a short stubbly beard. He was dressed in a heavy broadcloth frock coat and waistcoat, with light-coloured trousers, and immaculate collar and cuffs. A top hat, well brushed and trim, was placed upon the floor beside him. His hands were clenched and his arms thrown abroad, while his lower limbs were interlocked as though his death struggle had been a grievous one. On his rigid face there stood an expression of horror, and as it seemed to me, of hatred, such as I have never seen upon human features. This malignant and terrible contortion, combined with the low forehead, blunt nose, and prognathous jaw gave the dead man a singularly simious and ape-like appearance, which was increased by his writhing, unnatural posture. I have seen death in many forms, but never has it appeared to me in a more fearsome aspect than in that dark grimy apartment, which looked out upon one of the main arteries of suburban London.  Lestrade, lean and ferret-like as ever, was standing by the doorway, and greeted my companion and myself.  \"This case will make a stir, sir,\" he remarked. \"It beats anything I have seen, and I am no chicken.\"  \"There is no clue?\" said Gregson.  \"None at all,\" chimed in Lestrade.  Sherlock Holmes approached the body, and, kneeling down, examined it intently. \"You are sure that there is no wound?\" he asked, pointing to numerous gouts and splashes of blood which lay all round.  \"Positive!\" cried both detectives.  \"Then, of course, this blood belongs to a second individual--presumably the murderer, if murder has been committed. It reminds me of the circumstances attendant on the death of Van Jansen, in Utrecht, in the year \\'34. Do you remember the case, Gregson?\"  \"No, sir.\"  \"Read it up--you really should. There is nothing new under the sun. It has all been done before.\"  As he spoke, his nimble fingers were flying here, there, and everywhere, feeling, pressing, unbuttoning, examining, while his eyes wore the same far-away expression which I have already remarked upon. So swiftly was the examination made, that one would hardly have guessed the minuteness with which it was conducted. Finally, he sniffed the dead man\\'s lips, and then glanced at the soles of his patent leather boots.  \"He has not been moved at all?\" he asked.  \"No more than was necessary for the purposes of our examination.\"  \"You can take him to the mortuary now,\" he said. \"There is nothing more to be learned.\"  Gregson had a stretcher and four men at hand. At his call they entered the room, and the stranger was lifted and carried out. As they raised him, a ring tinkled down and rolled across the floor. Lestrade grabbed it up and stared at it with mystified eyes.  \"There\\'s been a woman here,\" he cried. \"It\\'s a woman\\'s wedding-ring.\"  He held it out, as he spoke, upon the palm of his hand. We all gathered round him and gazed at it. There could be no doubt that that circlet of plain gold had once adorned the finger of a bride.  \"This complicates matters,\" said Gregson. \"Heaven knows, they were complicated enough before.\"  \"You\\'re sure it doesn\\'t simplify them?\" observed Holmes. \"There\\'s nothing to be learned by staring at it. What did you find in his pockets?\"  \"We have it all here,\" said Gregson, pointing to a litter of objects upon one of the bottom steps of the stairs. \"A gold watch, No. 97163, by Barraud, of London. Gold Albert chain, very heavy and solid. Gold ring, with masonic device. Gold pin--bull-dog\\'s head, with rubies as eyes. Russian leather card-case, with cards of Enoch J. Drebber of Cleveland, corresponding with the E. J. D. upon the linen. No purse, but loose money to the extent of seven pounds thirteen. Pocket edition of Boccaccio\\'s \\'Decameron,\\' with name of Joseph Stangerson upon the fly-leaf. Two letters--one addressed to E. J. Drebber and one to Joseph Stangerson.\"  \"At what address?\"  \"American Exchange, Strand--to be left till called for. They are both from the Guion Steamship Company, and refer to the sailing of their boats from Liverpool. It is clear that this unfortunate man was about to return to New York.\"  \"Have you made any inquiries as to this man, Stangerson?\"  \"I did it at once, sir,\" said Gregson. \"I have had advertisements sent to all the newspapers, and one of my men has gone to the American Exchange, but he has not returned yet.\"  \"Have you sent to Cleveland?\"  \"We telegraphed this morning.\"  \"How did you word your inquiries?\"  \"We simply detailed the circumstances, and said that we should be glad of any information which could help us.\"  \"You did not ask for particulars on any point which appeared to you to be crucial?\"  \"I asked about Stangerson.\"  \"Nothing else? Is there no circumstance on which this whole case appears to hinge? Will you not telegraph again?\"  \"I have said all I have to say,\" said Gregson, in an offended voice.  Sherlock Holmes chuckled to himself, and appeared to be about to make some remark, when Lestrade, who had been in the front room while we were holding this conversation in the hall, reappeared upon the scene, rubbing his hands in a pompous and self-satisfied manner.  \"Mr. Gregson,\" he said, \"I have just made a discovery of the highest importance, and one which would have been overlooked had I not made a careful examination of the walls.\"  The little man\\'s eyes sparkled as he spoke, and he was evidently in a state of suppressed exultation at having scored a point against his colleague.  \"Come here,\" he said, bustling back into the room, the atmosphere of which felt clearer since the removal of its ghastly inmate. \"Now, stand there!\"  He struck a match on his boot and held it up against the wall.  \"Look at that!\" he said, triumphantly.  I have remarked that the paper had fallen away in parts. In this particular corner of the room a large piece had peeled off, leaving a yellow square of coarse plastering. Across this bare space there was scrawled in blood-red letters a single word--  RACHE.  \"What do you think of that?\" cried the detective, with the air of a showman exhibiting his show. \"This was overlooked because it was in the darkest corner of the room, and no one thought of looking there. The murderer has written it with his or her own blood. See this smear where it has trickled down the wall! That disposes of the idea of suicide anyhow. Why was that corner chosen to write it on? I will tell you. See that candle on the mantelpiece. It was lit at the time, and if it was lit this corner would be the brightest instead of the darkest portion of the wall.\"  \"And what does it mean now that you have found it?\" asked Gregson in a depreciatory voice.  \"Mean? Why, it means that the writer was going to put the female name Rachel, but was disturbed before he or she had time to finish. You mark my words, when this case comes to be cleared up you will find that a woman named Rachel has something to do with it. It\\'s all very well for you to laugh, Mr. Sherlock Holmes. You may be very smart and clever, but the old hound is the best, when all is said and done.\"  \"I really beg your pardon!\" said my companion, who had ruffled the little man\\'s temper by bursting into an explosion of laughter. \"You certainly have the credit of being the first of us to find this out, and, as you say, it bears every mark of having been written by the other participant in last night\\'s mystery. I have not had time to examine this room yet, but with your permission I shall do so now.\"  As he spoke, he whipped a tape measure and a large round magnifying glass from his pocket. With these two implements he trotted noiselessly about the room, sometimes stopping, occasionally kneeling, and once lying flat upon his face. So engrossed was he with his occupation that he appeared to have forgotten our presence, for he chattered away to himself under his breath the whole time, keeping up a running fire of exclamations, groans, whistles, and little cries suggestive of encouragement and of hope. As I watched him I was irresistibly reminded of a pure-blooded well-trained foxhound as it dashes backwards and forwards through the covert, whining in its eagerness, until it comes across the lost scent. For twenty minutes or more he continued his researches, measuring with the most exact care the distance between marks which were entirely invisible to me, and occasionally applying his tape to the walls in an equally incomprehensible manner. In one place he gathered up very carefully a little pile of grey dust from the floor, and packed it away in an envelope. Finally, he examined with his glass the word upon the wall, going over every letter of it with the most minute exactness. This done, he appeared to be satisfied, for he replaced his tape and his glass in his pocket.  \"They say that genius is an infinite capacity for taking pains,\" he remarked with a smile. \"It\\'s a very bad definition, but it does apply to detective work.\"  Gregson and Lestrade had watched the manoeuvres of their amateur companion with considerable curiosity and some contempt. They evidently failed to appreciate the fact, which I had begun to realize, that Sherlock Holmes\\' smallest actions were all directed towards some definite and practical end.  \"What do you think of it, sir?\" they both asked.  \"It would be robbing you of the credit of the case if I was to presume to help you,\" remarked my friend. \"You are doing so well now that it would be a pity for anyone to interfere.\" There was a world of sarcasm in his voice as he spoke. \"If you will let me know how your investigations go,\" he continued, \"I shall be happy to give you any help I can. In the meantime I should like to speak to the constable who found the body. Can you give me his name and address?\"  Lestrade glanced at his note-book. \"John Rance,\" he said. \"He is off duty now. You will find him at 46, Audley Court, Kennington Park Gate.\"  Holmes took a note of the address.  \"Come along, Doctor,\" he said; \"we shall go and look him up. I\\'ll tell you one thing which may help you in the case,\" he continued, turning to the two detectives. \"There has been murder done, and the murderer was a man. He was more than six feet high, was in the prime of life, had small feet for his height, wore coarse, square-toed boots and smoked a Trichinopoly cigar. He came here with his victim in a four-wheeled cab, which was drawn by a horse with three old shoes and one new one on his off fore leg. In all probability the murderer had a florid face, and the finger-nails of his right hand were remarkably long. These are only a few indications, but they may assist you.\"  Lestrade and Gregson glanced at each other with an incredulous smile.  \"If this man was murdered, how was it done?\" asked the former.  \"Poison,\" said Sherlock Holmes curtly, and strode off. \"One other thing, Lestrade,\" he added, turning round at the door: \"\\'Rache,\\' is the German for \\'revenge;\\' so don\\'t lose your time looking for Miss Rachel.\"  With which Parthian shot he walked away, leaving the two rivals open-mouthed behind him.      '"
            ]
          },
          "metadata": {
            "tags": []
          },
          "execution_count": 42
        }
      ]
    },
    {
      "cell_type": "code",
      "metadata": {
        "id": "jmk3W3FGfCyM"
      },
      "source": [
        ""
      ],
      "execution_count": null,
      "outputs": []
    }
  ]
}