{
  "nbformat": 4,
  "nbformat_minor": 0,
  "metadata": {
    "colab": {
      "provenance": [],
      "gpuType": "T4"
    },
    "kernelspec": {
      "name": "python3",
      "display_name": "Python 3"
    },
    "language_info": {
      "name": "python"
    },
    "accelerator": "GPU"
  },
  "cells": [
    {
      "cell_type": "markdown",
      "source": [
        "# Password Strength Checker using Python\n",
        "\n",
        "Author:Claudia Magliano\n",
        "\n",
        "Date: 18/04/2024\n"
      ],
      "metadata": {
        "id": "7OcZEYCImdsu"
      }
    },
    {
      "cell_type": "code",
      "execution_count": 1,
      "metadata": {
        "id": "M54SBRrLmcmH"
      },
      "outputs": [],
      "source": [
        "import pandas as pd\n",
        "import numpy as np\n",
        "import io\n",
        "from sklearn.feature_extraction.text import CountVectorizer\n",
        "from sklearn.feature_extraction.text import TfidfVectorizer\n",
        "from sklearn.model_selection import train_test_split\n",
        "from sklearn.ensemble import RandomForestClassifier"
      ]
    },
    {
      "cell_type": "markdown",
      "source": [
        "Get the dataset from kaggle:\n",
        "https://www.kaggle.com/datasets/bhavikbb/password-strength-classifier-dataset\n",
        "\n",
        "There are lines with errors so we have to ignore them."
      ],
      "metadata": {
        "id": "wfCWWuaymxFv"
      }
    },
    {
      "cell_type": "code",
      "source": [
        "#data = pd.read_csv(\"data.csv\")\n",
        "def func(x):\n",
        "    return x[0:1]\n",
        "# df = pd.read_csv(io.StringIO(t), converters={'column': func})\n",
        "data = pd.read_csv('data.csv', on_bad_lines = \"skip\", names=['Password','Strength'], skiprows =1,\n",
        "                    converters={'Strength': func})\n",
        "#data = pd.read_csv('data.csv', delimiter='\\t', names=(range(1)))\n",
        "print(data.head())"
      ],
      "metadata": {
        "colab": {
          "base_uri": "https://localhost:8080/"
        },
        "id": "gxVyTv41m5aw",
        "outputId": "d3729fd9-3034-418b-cd43-e6b1fdbfe7a1"
      },
      "execution_count": 58,
      "outputs": [
        {
          "output_type": "stream",
          "name": "stdout",
          "text": [
            "      Password Strength\n",
            "0     kzde5577        1\n",
            "1     kino3434        1\n",
            "2    visi7k1yr        1\n",
            "3     megzy123        1\n",
            "4  lamborghin1        1\n"
          ]
        }
      ]
    },
    {
      "cell_type": "code",
      "source": [
        "data.dtypes"
      ],
      "metadata": {
        "id": "xdZzXjw_lJbd",
        "colab": {
          "base_uri": "https://localhost:8080/"
        },
        "outputId": "d07968e3-c6a6-4e66-ecf0-bd725977bb1b"
      },
      "execution_count": 3,
      "outputs": [
        {
          "output_type": "execute_result",
          "data": {
            "text/plain": [
              "Password    object\n",
              "Strength    object\n",
              "dtype: object"
            ]
          },
          "metadata": {},
          "execution_count": 3
        }
      ]
    },
    {
      "cell_type": "code",
      "source": [
        "data.shape"
      ],
      "metadata": {
        "id": "3XsnGq_SnYVS",
        "colab": {
          "base_uri": "https://localhost:8080/"
        },
        "outputId": "ade2f20f-2753-4776-bf70-c4043f2e64a5"
      },
      "execution_count": 56,
      "outputs": [
        {
          "output_type": "execute_result",
          "data": {
            "text/plain": [
              "(669644, 2)"
            ]
          },
          "metadata": {},
          "execution_count": 56
        }
      ]
    },
    {
      "cell_type": "markdown",
      "source": [
        "The dataset has two columns; password and strength. In the strength column:\n",
        "\n",
        "0 means: the password’s strength is weak;\n",
        "\n",
        "1 means: the password’s strength is medium;\n",
        "\n",
        "2 means: the password’s strength is strong;\n",
        "\n",
        "Before moving forward, I will convert 0, 1, and 2 values in the strength column to weak, medium, and strong:"
      ],
      "metadata": {
        "id": "0c1V3U88Gyqw"
      }
    },
    {
      "cell_type": "code",
      "source": [
        "#data.dropna(axis= 0,how='any')\n",
        "data[\"Strength\"] = data[\"Strength\"].map({'0': \"Weak\",\n",
        "                                         '1': \"Medium\",\n",
        "                                         '2': \"Strong\"})\n",
        "print(data.sample(5))"
      ],
      "metadata": {
        "colab": {
          "base_uri": "https://localhost:8080/"
        },
        "id": "FIZ3MFzCG2sr",
        "outputId": "6ac16126-4e2b-454f-b4e0-3b3909ee9491"
      },
      "execution_count": 59,
      "outputs": [
        {
          "output_type": "stream",
          "name": "stdout",
          "text": [
            "          Password Strength\n",
            "368379  renette271   Medium\n",
            "510708  siketp1140   Medium\n",
            "384622    seba1234   Medium\n",
            "473672  zevallos28   Medium\n",
            "375942     lingbo0     Weak\n"
          ]
        }
      ]
    },
    {
      "cell_type": "code",
      "source": [
        "data.isna().sum()"
      ],
      "metadata": {
        "colab": {
          "base_uri": "https://localhost:8080/"
        },
        "id": "aPuiYw2JIP-i",
        "outputId": "23680112-29cf-4cff-c441-e8eaff8eea01"
      },
      "execution_count": 63,
      "outputs": [
        {
          "output_type": "execute_result",
          "data": {
            "text/plain": [
              "Password    0\n",
              "Strength    0\n",
              "dtype: int64"
            ]
          },
          "metadata": {},
          "execution_count": 63
        }
      ]
    },
    {
      "cell_type": "code",
      "source": [
        "data = data.dropna(axis= 0,how='any')"
      ],
      "metadata": {
        "id": "9kBu9y7KOjLU"
      },
      "execution_count": 62,
      "outputs": []
    },
    {
      "cell_type": "markdown",
      "source": [
        "# Password Strength Prediction Model\n",
        "Now let’s move to train a machine learning model to predict the strength of the password. Before we start preparing the model, we need to tokenize the passwords as we need the model to learn from the combinations of digits, letters, and symbols to predict the password’s strength. So here’s how we can tokenize and split the data into training and test sets:"
      ],
      "metadata": {
        "id": "j-xXvPsIHnQl"
      }
    },
    {
      "cell_type": "code",
      "source": [
        "def word(password):\n",
        "    character=[]\n",
        "    for i in password:\n",
        "        character.append(i)\n",
        "    return character\n",
        "\n",
        "x = np.array(data[\"Password\"])\n",
        "y = np.array(data[\"Strength\"])\n",
        "\n",
        "tdif = TfidfVectorizer(tokenizer=word)\n",
        "x = tdif.fit_transform(x)\n",
        "xtrain, xtest, ytrain, ytest = train_test_split(x, y,\n",
        "                                                test_size=0.05,\n",
        "                                                random_state=42)"
      ],
      "metadata": {
        "colab": {
          "base_uri": "https://localhost:8080/"
        },
        "id": "lc89RiAEHrzR",
        "outputId": "ca2db839-d1dc-42a2-ba78-48d75d2326ec"
      },
      "execution_count": 64,
      "outputs": [
        {
          "output_type": "stream",
          "name": "stderr",
          "text": [
            "/usr/local/lib/python3.10/dist-packages/sklearn/feature_extraction/text.py:528: UserWarning: The parameter 'token_pattern' will not be used since 'tokenizer' is not None'\n",
            "  warnings.warn(\n"
          ]
        }
      ]
    },
    {
      "cell_type": "markdown",
      "source": [
        "Now here’s how to train a classification model to predict the strength of the password:"
      ],
      "metadata": {
        "id": "0dqfYf6XH5fe"
      }
    },
    {
      "cell_type": "code",
      "source": [
        "model = RandomForestClassifier()\n",
        "model.fit(xtrain, ytrain)\n",
        "print(model.score(xtest, ytest))"
      ],
      "metadata": {
        "colab": {
          "base_uri": "https://localhost:8080/"
        },
        "id": "BXtThjavIAMT",
        "outputId": "e3716b7d-263d-4569-d122-375c3aad3a09"
      },
      "execution_count": 65,
      "outputs": [
        {
          "output_type": "stream",
          "name": "stdout",
          "text": [
            "0.9578802724339825\n"
          ]
        }
      ]
    },
    {
      "cell_type": "markdown",
      "source": [
        "Now here’s how we can check the strength of a password using the trained model:"
      ],
      "metadata": {
        "id": "M7pU-feqWgjF"
      }
    },
    {
      "cell_type": "code",
      "source": [
        "import getpass\n",
        "user = getpass.getpass(\"Enter Password: \")\n",
        "data = tdif.transform([user]).toarray()\n",
        "output = model.predict(data)\n",
        "print(output)"
      ],
      "metadata": {
        "colab": {
          "base_uri": "https://localhost:8080/"
        },
        "id": "lEbKkXvOWfxR",
        "outputId": "23c42744-476d-48a7-8a75-b1e93c6214d0"
      },
      "execution_count": 66,
      "outputs": [
        {
          "output_type": "stream",
          "name": "stdout",
          "text": [
            "Enter Password: ··········\n",
            "['Medium']\n"
          ]
        }
      ]
    },
    {
      "cell_type": "markdown",
      "source": [
        "# Summary\n",
        "So this is how you can use machine learning to create a password’s strength checker using the Python programming language. A password strength checker works by understanding the combination of digits, letters, and special symbols you use in your password. I hope you liked this article on creating a password’s strength checker with Machine Learning using Python. Feel free to ask valuable questions in the comments section below."
      ],
      "metadata": {
        "id": "l6ogC0PJWxBH"
      }
    }
  ]
}