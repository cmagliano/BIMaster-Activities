{
  "nbformat": 4,
  "nbformat_minor": 0,
  "metadata": {
    "colab": {
      "provenance": [],
      "gpuType": "T4"
    },
    "kernelspec": {
      "name": "python3",
      "display_name": "Python 3"
    },
    "language_info": {
      "name": "python"
    },
    "accelerator": "GPU"
  },
  "cells": [
    {
      "cell_type": "markdown",
      "source": [
        "# Password Strength Checker using Python\n",
        "\n",
        "Author:Claudia Magliano\n",
        "\n",
        "Date: 18/04/2024\n"
      ],
      "metadata": {
        "id": "7OcZEYCImdsu"
      }
    },
    {
      "cell_type": "code",
      "execution_count": 3,
      "metadata": {
        "id": "M54SBRrLmcmH"
      },
      "outputs": [],
      "source": [
        "import pandas as pd\n",
        "import numpy as np\n",
        "import io\n",
        "from sklearn.feature_extraction.text import CountVectorizer\n",
        "from sklearn.feature_extraction.text import TfidfVectorizer\n",
        "from sklearn.model_selection import train_test_split\n",
        "from sklearn.ensemble import RandomForestClassifier\n",
        "import tensorflow as tf\n",
        "from tensorflow.keras.models import Sequential\n",
        "from tensorflow.keras.layers import Dense"
      ]
    },
    {
      "cell_type": "markdown",
      "source": [
        "Get the dataset from kaggle:\n",
        "https://www.kaggle.com/datasets/bhavikbb/password-strength-classifier-dataset\n",
        "\n",
        "There are lines with errors so we have to ignore them."
      ],
      "metadata": {
        "id": "wfCWWuaymxFv"
      }
    },
    {
      "cell_type": "code",
      "source": [
        "#data = pd.read_csv(\"data.csv\")\n",
        "def func(x):\n",
        "    return x[0:1]\n",
        "# df = pd.read_csv(io.StringIO(t), converters={'column': func})\n",
        "data = pd.read_csv('data.csv', on_bad_lines = \"skip\", names=['Password','Strength'], skiprows =1,\n",
        "                    converters={'Strength': func})\n",
        "#data = pd.read_csv('data.csv', delimiter='\\t', names=(range(1)))\n",
        "print(data.head())"
      ],
      "metadata": {
        "colab": {
          "base_uri": "https://localhost:8080/"
        },
        "id": "gxVyTv41m5aw",
        "outputId": "46055078-09af-444b-83cd-0ae5e303715f"
      },
      "execution_count": 6,
      "outputs": [
        {
          "output_type": "stream",
          "name": "stdout",
          "text": [
            "      Password Strength\n",
            "0     kzde5577        1\n",
            "1     kino3434        1\n",
            "2    visi7k1yr        1\n",
            "3     megzy123        1\n",
            "4  lamborghin1        1\n"
          ]
        }
      ]
    },
    {
      "cell_type": "code",
      "source": [
        "data.dtypes"
      ],
      "metadata": {
        "id": "xdZzXjw_lJbd",
        "colab": {
          "base_uri": "https://localhost:8080/"
        },
        "outputId": "bbf4970c-7c9c-4bb0-e394-dd4d94757fde"
      },
      "execution_count": 7,
      "outputs": [
        {
          "output_type": "execute_result",
          "data": {
            "text/plain": [
              "Password    object\n",
              "Strength    object\n",
              "dtype: object"
            ]
          },
          "metadata": {},
          "execution_count": 7
        }
      ]
    },
    {
      "cell_type": "code",
      "source": [
        "data.shape"
      ],
      "metadata": {
        "id": "3XsnGq_SnYVS",
        "colab": {
          "base_uri": "https://localhost:8080/"
        },
        "outputId": "8ef88d58-5f03-4492-d98d-af1ae8df2263"
      },
      "execution_count": 8,
      "outputs": [
        {
          "output_type": "execute_result",
          "data": {
            "text/plain": [
              "(320239, 2)"
            ]
          },
          "metadata": {},
          "execution_count": 8
        }
      ]
    },
    {
      "cell_type": "markdown",
      "source": [
        "The dataset has two columns; password and strength. In the strength column:\n",
        "\n",
        "0 means: the password’s strength is weak;\n",
        "\n",
        "1 means: the password’s strength is medium;\n",
        "\n",
        "2 means: the password’s strength is strong;\n",
        "\n",
        "Before moving forward, I will convert 0, 1, and 2 values in the strength column to weak, medium, and strong:"
      ],
      "metadata": {
        "id": "0c1V3U88Gyqw"
      }
    },
    {
      "cell_type": "code",
      "source": [
        "data.Strength.value_counts()"
      ],
      "metadata": {
        "colab": {
          "base_uri": "https://localhost:8080/"
        },
        "id": "7nAgT_1o90Dk",
        "outputId": "fe06bb4b-1262-40de-c79c-68cf9d46d459"
      },
      "execution_count": 9,
      "outputs": [
        {
          "output_type": "execute_result",
          "data": {
            "text/plain": [
              "Strength\n",
              "1    237643\n",
              "0     42869\n",
              "2     39657\n",
              "         70\n",
              "Name: count, dtype: int64"
            ]
          },
          "metadata": {},
          "execution_count": 9
        }
      ]
    },
    {
      "cell_type": "code",
      "source": [
        "data.Strength = data.Strength.replace('', np.nan).dropna()"
      ],
      "metadata": {
        "id": "Osv9Ikgh4n9f"
      },
      "execution_count": 10,
      "outputs": []
    },
    {
      "cell_type": "code",
      "source": [
        "data.isna().sum()"
      ],
      "metadata": {
        "colab": {
          "base_uri": "https://localhost:8080/"
        },
        "id": "aPuiYw2JIP-i",
        "outputId": "c0f4c34b-4e14-4c2e-8efc-ad18e257918b"
      },
      "execution_count": 11,
      "outputs": [
        {
          "output_type": "execute_result",
          "data": {
            "text/plain": [
              "Password     0\n",
              "Strength    70\n",
              "dtype: int64"
            ]
          },
          "metadata": {},
          "execution_count": 11
        }
      ]
    },
    {
      "cell_type": "code",
      "source": [
        "data.shape"
      ],
      "metadata": {
        "colab": {
          "base_uri": "https://localhost:8080/"
        },
        "id": "ZWrpJf0e-Bzc",
        "outputId": "20b29ff7-2248-4538-e51a-8c0516879614"
      },
      "execution_count": 12,
      "outputs": [
        {
          "output_type": "execute_result",
          "data": {
            "text/plain": [
              "(320239, 2)"
            ]
          },
          "metadata": {},
          "execution_count": 12
        }
      ]
    },
    {
      "cell_type": "code",
      "source": [
        "data = data.dropna(axis=0, how='any')"
      ],
      "metadata": {
        "id": "9kBu9y7KOjLU"
      },
      "execution_count": 13,
      "outputs": []
    },
    {
      "cell_type": "code",
      "source": [
        "data.shape"
      ],
      "metadata": {
        "colab": {
          "base_uri": "https://localhost:8080/"
        },
        "id": "ow9JTKrf-DBt",
        "outputId": "7059c74b-e26a-46ed-8041-05dc6eada8ac"
      },
      "execution_count": 14,
      "outputs": [
        {
          "output_type": "execute_result",
          "data": {
            "text/plain": [
              "(320169, 2)"
            ]
          },
          "metadata": {},
          "execution_count": 14
        }
      ]
    },
    {
      "cell_type": "markdown",
      "source": [
        "# Password Strength Prediction Model\n",
        "Now let’s move to train a machine learning model to predict the strength of the password. Before we start preparing the model, we need to tokenize the passwords as we need the model to learn from the combinations of digits, letters, and symbols to predict the password’s strength. So here’s how we can tokenize and split the data into training and test sets:"
      ],
      "metadata": {
        "id": "j-xXvPsIHnQl"
      }
    },
    {
      "cell_type": "code",
      "source": [
        "def word(password):\n",
        "    character=[]\n",
        "    for i in password:\n",
        "        character.append(i)\n",
        "    return character\n",
        "\n",
        "x = np.array(data[\"Password\"])\n",
        "y = np.array(data[\"Strength\"])\n",
        "\n",
        "tdif = TfidfVectorizer(tokenizer=word)\n",
        "x = tdif.fit_transform(x)\n",
        "xtrain, xtest, ytrain, ytest = train_test_split(x, y,\n",
        "                                                test_size=0.05,\n",
        "                                                random_state=42)"
      ],
      "metadata": {
        "colab": {
          "base_uri": "https://localhost:8080/"
        },
        "id": "lc89RiAEHrzR",
        "outputId": "8b8febcd-2092-4c67-bb4a-0e4d83df5a81"
      },
      "execution_count": 15,
      "outputs": [
        {
          "output_type": "stream",
          "name": "stderr",
          "text": [
            "/usr/local/lib/python3.10/dist-packages/sklearn/feature_extraction/text.py:528: UserWarning: The parameter 'token_pattern' will not be used since 'tokenizer' is not None'\n",
            "  warnings.warn(\n"
          ]
        }
      ]
    },
    {
      "cell_type": "code",
      "source": [
        "indices = np.mat([xtrain.nonzero()[0], xtrain.nonzero()[1]]).transpose()\n",
        "values = xtrain.data\n",
        "dense_shape = xtrain.shape\n",
        "\n",
        "xtrain_tensor = tf.sparse.SparseTensor(indices=indices,\n",
        "                                  values=values,\n",
        "                                  dense_shape=dense_shape)"
      ],
      "metadata": {
        "id": "3LKHyvRH-Uhu"
      },
      "execution_count": 16,
      "outputs": []
    },
    {
      "cell_type": "code",
      "source": [
        "indices = np.mat([xtest.nonzero()[0], xtest.nonzero()[1]]).transpose()\n",
        "values = xtest.data\n",
        "dense_shape = xtest.shape\n",
        "\n",
        "xtest_tensor = tf.sparse.SparseTensor(indices=indices,\n",
        "                                  values=values,\n",
        "                                  dense_shape=dense_shape)"
      ],
      "metadata": {
        "id": "3qQuHBZg_m4G"
      },
      "execution_count": 17,
      "outputs": []
    },
    {
      "cell_type": "code",
      "source": [
        "ytrain = ytrain.astype('int')\n",
        "ytest = ytest.astype('int')"
      ],
      "metadata": {
        "id": "zKdaW3QVDhSy"
      },
      "execution_count": 18,
      "outputs": []
    },
    {
      "cell_type": "markdown",
      "source": [
        "Now here’s how to train a classification model to predict the strength of the password:"
      ],
      "metadata": {
        "id": "0dqfYf6XH5fe"
      }
    },
    {
      "cell_type": "code",
      "source": [
        "model = Sequential([\n",
        "    Dense(64, activation='relu', input_shape=(xtest_tensor.shape[1],)),  # Primeira camada densa com 64 neurônios\n",
        "    Dense(32, activation='relu'),  # Segunda camada densa com 32 neurônios\n",
        "    Dense(3, activation='softmax')  # Camada de saída com 3 neurônios, um para cada classe\n",
        "])\n",
        "\n",
        "# Compilação do modelo\n",
        "model.compile(optimizer='adam',\n",
        "              loss='sparse_categorical_crossentropy',\n",
        "              metrics=['accuracy'])\n",
        "\n",
        "# Resumo do modelo\n",
        "model.summary()"
      ],
      "metadata": {
        "colab": {
          "base_uri": "https://localhost:8080/"
        },
        "id": "BXtThjavIAMT",
        "outputId": "ff0ec2ac-59fb-464c-9ccd-1768ef0d3687"
      },
      "execution_count": 20,
      "outputs": [
        {
          "output_type": "stream",
          "name": "stdout",
          "text": [
            "Model: \"sequential\"\n",
            "_________________________________________________________________\n",
            " Layer (type)                Output Shape              Param #   \n",
            "=================================================================\n",
            " dense (Dense)               (None, 64)                7872      \n",
            "                                                                 \n",
            " dense_1 (Dense)             (None, 32)                2080      \n",
            "                                                                 \n",
            " dense_2 (Dense)             (None, 3)                 99        \n",
            "                                                                 \n",
            "=================================================================\n",
            "Total params: 10051 (39.26 KB)\n",
            "Trainable params: 10051 (39.26 KB)\n",
            "Non-trainable params: 0 (0.00 Byte)\n",
            "_________________________________________________________________\n"
          ]
        }
      ]
    },
    {
      "cell_type": "code",
      "source": [
        "xtrain_tensor = tf.sparse.reorder(xtrain_tensor)\n",
        "xtest_tensor = tf.sparse.reorder(xtest_tensor)"
      ],
      "metadata": {
        "id": "sPNiPf3-JPe0"
      },
      "execution_count": 21,
      "outputs": []
    },
    {
      "source": [
        "# Treinamento do modelo\n",
        "history = model.fit(xtrain_tensor, ytrain, epochs=50)"
      ],
      "cell_type": "code",
      "metadata": {
        "colab": {
          "base_uri": "https://localhost:8080/"
        },
        "id": "csAGmFQnbeoD",
        "outputId": "5b9ac3cf-0b4e-471f-8a90-8587e03f289e"
      },
      "execution_count": 22,
      "outputs": [
        {
          "output_type": "stream",
          "name": "stdout",
          "text": [
            "Epoch 1/50\n",
            "9505/9505 [==============================] - 43s 4ms/step - loss: 0.3978 - accuracy: 0.8213\n",
            "Epoch 2/50\n",
            "9505/9505 [==============================] - 39s 4ms/step - loss: 0.3182 - accuracy: 0.8464\n",
            "Epoch 3/50\n",
            "9505/9505 [==============================] - 38s 4ms/step - loss: 0.2735 - accuracy: 0.8750\n",
            "Epoch 4/50\n",
            "9505/9505 [==============================] - 40s 4ms/step - loss: 0.2202 - accuracy: 0.9089\n",
            "Epoch 5/50\n",
            "9505/9505 [==============================] - 38s 4ms/step - loss: 0.1776 - accuracy: 0.9302\n",
            "Epoch 6/50\n",
            "9505/9505 [==============================] - 38s 4ms/step - loss: 0.1489 - accuracy: 0.9426\n",
            "Epoch 7/50\n",
            "9505/9505 [==============================] - 38s 4ms/step - loss: 0.1299 - accuracy: 0.9503\n",
            "Epoch 8/50\n",
            "9505/9505 [==============================] - 38s 4ms/step - loss: 0.1165 - accuracy: 0.9561\n",
            "Epoch 9/50\n",
            "9505/9505 [==============================] - 39s 4ms/step - loss: 0.1067 - accuracy: 0.9605\n",
            "Epoch 10/50\n",
            "9505/9505 [==============================] - 39s 4ms/step - loss: 0.0998 - accuracy: 0.9635\n",
            "Epoch 11/50\n",
            "9505/9505 [==============================] - 38s 4ms/step - loss: 0.0941 - accuracy: 0.9651\n",
            "Epoch 12/50\n",
            "9505/9505 [==============================] - 39s 4ms/step - loss: 0.0900 - accuracy: 0.9670\n",
            "Epoch 13/50\n",
            "9505/9505 [==============================] - 38s 4ms/step - loss: 0.0861 - accuracy: 0.9682\n",
            "Epoch 14/50\n",
            "9505/9505 [==============================] - 40s 4ms/step - loss: 0.0826 - accuracy: 0.9698\n",
            "Epoch 15/50\n",
            "9505/9505 [==============================] - 39s 4ms/step - loss: 0.0792 - accuracy: 0.9710\n",
            "Epoch 16/50\n",
            "9505/9505 [==============================] - 39s 4ms/step - loss: 0.0764 - accuracy: 0.9718\n",
            "Epoch 17/50\n",
            "9505/9505 [==============================] - 38s 4ms/step - loss: 0.0739 - accuracy: 0.9729\n",
            "Epoch 18/50\n",
            "9505/9505 [==============================] - 39s 4ms/step - loss: 0.0709 - accuracy: 0.9742\n",
            "Epoch 19/50\n",
            "9505/9505 [==============================] - 39s 4ms/step - loss: 0.0685 - accuracy: 0.9749\n",
            "Epoch 20/50\n",
            "9505/9505 [==============================] - 38s 4ms/step - loss: 0.0664 - accuracy: 0.9762\n",
            "Epoch 21/50\n",
            "9505/9505 [==============================] - 38s 4ms/step - loss: 0.0649 - accuracy: 0.9766\n",
            "Epoch 22/50\n",
            "9505/9505 [==============================] - 39s 4ms/step - loss: 0.0630 - accuracy: 0.9773\n",
            "Epoch 23/50\n",
            "9505/9505 [==============================] - 39s 4ms/step - loss: 0.0612 - accuracy: 0.9780\n",
            "Epoch 24/50\n",
            "9505/9505 [==============================] - 38s 4ms/step - loss: 0.0601 - accuracy: 0.9785\n",
            "Epoch 25/50\n",
            "9505/9505 [==============================] - 40s 4ms/step - loss: 0.0586 - accuracy: 0.9785\n",
            "Epoch 26/50\n",
            "9505/9505 [==============================] - 38s 4ms/step - loss: 0.0572 - accuracy: 0.9794\n",
            "Epoch 27/50\n",
            "9505/9505 [==============================] - 38s 4ms/step - loss: 0.0567 - accuracy: 0.9799\n",
            "Epoch 28/50\n",
            "9505/9505 [==============================] - 39s 4ms/step - loss: 0.0556 - accuracy: 0.9801\n",
            "Epoch 29/50\n",
            "9505/9505 [==============================] - 38s 4ms/step - loss: 0.0547 - accuracy: 0.9806\n",
            "Epoch 30/50\n",
            "9505/9505 [==============================] - 40s 4ms/step - loss: 0.0541 - accuracy: 0.9809\n",
            "Epoch 31/50\n",
            "9505/9505 [==============================] - 39s 4ms/step - loss: 0.0533 - accuracy: 0.9812\n",
            "Epoch 32/50\n",
            "9505/9505 [==============================] - 38s 4ms/step - loss: 0.0526 - accuracy: 0.9813\n",
            "Epoch 33/50\n",
            "9505/9505 [==============================] - 39s 4ms/step - loss: 0.0523 - accuracy: 0.9814\n",
            "Epoch 34/50\n",
            "9505/9505 [==============================] - 38s 4ms/step - loss: 0.0517 - accuracy: 0.9815\n",
            "Epoch 35/50\n",
            "9505/9505 [==============================] - 40s 4ms/step - loss: 0.0504 - accuracy: 0.9823\n",
            "Epoch 36/50\n",
            "9505/9505 [==============================] - 38s 4ms/step - loss: 0.0504 - accuracy: 0.9821\n",
            "Epoch 37/50\n",
            "9505/9505 [==============================] - 39s 4ms/step - loss: 0.0498 - accuracy: 0.9824\n",
            "Epoch 38/50\n",
            "9505/9505 [==============================] - 38s 4ms/step - loss: 0.0493 - accuracy: 0.9825\n",
            "Epoch 39/50\n",
            "9505/9505 [==============================] - 38s 4ms/step - loss: 0.0491 - accuracy: 0.9827\n",
            "Epoch 40/50\n",
            "9505/9505 [==============================] - 40s 4ms/step - loss: 0.0481 - accuracy: 0.9830\n",
            "Epoch 41/50\n",
            "9505/9505 [==============================] - 39s 4ms/step - loss: 0.0480 - accuracy: 0.9833\n",
            "Epoch 42/50\n",
            "9505/9505 [==============================] - 38s 4ms/step - loss: 0.0477 - accuracy: 0.9832\n",
            "Epoch 43/50\n",
            "9505/9505 [==============================] - 39s 4ms/step - loss: 0.0472 - accuracy: 0.9835\n",
            "Epoch 44/50\n",
            "9505/9505 [==============================] - 39s 4ms/step - loss: 0.0471 - accuracy: 0.9834\n",
            "Epoch 45/50\n",
            "9505/9505 [==============================] - 40s 4ms/step - loss: 0.0467 - accuracy: 0.9837\n",
            "Epoch 46/50\n",
            "9505/9505 [==============================] - 39s 4ms/step - loss: 0.0461 - accuracy: 0.9839\n",
            "Epoch 47/50\n",
            "9505/9505 [==============================] - 39s 4ms/step - loss: 0.0459 - accuracy: 0.9840\n",
            "Epoch 48/50\n",
            "9505/9505 [==============================] - 38s 4ms/step - loss: 0.0457 - accuracy: 0.9843\n",
            "Epoch 49/50\n",
            "9505/9505 [==============================] - 39s 4ms/step - loss: 0.0457 - accuracy: 0.9842\n",
            "Epoch 50/50\n",
            "9505/9505 [==============================] - 39s 4ms/step - loss: 0.0449 - accuracy: 0.9843\n"
          ]
        }
      ]
    },
    {
      "cell_type": "markdown",
      "source": [
        "Now here’s how we can check the strength of a password using the trained model:"
      ],
      "metadata": {
        "id": "M7pU-feqWgjF"
      }
    },
    {
      "cell_type": "code",
      "source": [
        "import getpass\n",
        "user = getpass.getpass(\"Enter Password: \")\n",
        "data = tdif.transform([user]).toarray()\n",
        "output = model.predict(data)\n",
        "print(output)"
      ],
      "metadata": {
        "id": "lEbKkXvOWfxR",
        "colab": {
          "base_uri": "https://localhost:8080/"
        },
        "outputId": "3371f16e-9268-4f08-ca2c-1ee767a737c3"
      },
      "execution_count": 23,
      "outputs": [
        {
          "output_type": "stream",
          "name": "stdout",
          "text": [
            "Enter Password: ··········\n",
            "1/1 [==============================] - 0s 102ms/step\n",
            "[[7.6481587e-22 5.2400813e-03 9.9475986e-01]]\n"
          ]
        }
      ]
    },
    {
      "cell_type": "markdown",
      "source": [
        "# Summary\n",
        "So this is how you can use machine learning to create a password’s strength checker using the Python programming language. A password strength checker works by understanding the combination of digits, letters, and special symbols you use in your password. I hope you liked this article on creating a password’s strength checker with Machine Learning using Python. Feel free to ask valuable questions in the comments section below."
      ],
      "metadata": {
        "id": "l6ogC0PJWxBH"
      }
    }
  ]
}